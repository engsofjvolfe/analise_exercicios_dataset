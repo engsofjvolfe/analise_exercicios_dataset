{
 "cells": [
  {
   "cell_type": "markdown",
   "id": "65bfa52f",
   "metadata": {},
   "source": [
    "# Explorando a Jornada do Condicionamento Físico: Uma Análise de Dados"
   ]
  },
  {
   "cell_type": "markdown",
   "id": "7c1fb712",
   "metadata": {},
   "source": [
    "Imagine-se imerso em uma jornada de quase três anos de dedicação ao condicionamento físico, registrando meticulosamente cada passo de sua trilha de força e resistência. Cada treino, cada exercício, cada desafio - tudo documentado com o objetivo de compreender, crescer e alcançar novos patamares de aptidão. Esta é a história por trás dos dados com que lidaremos neste trabalho.\n",
    "\n",
    "Nossa proposta não está intrinsicamente relacionada com uma investigação minuciosa ou mesmo totalmente realista dos dados aqui apresentados; mas visa levar-nos a uma aventura que instiga a curiosidade e apresenta as possibilidades que a análise de dados oferece. Os registros abrangem quase três anos de treinos, com poucas lacunas, e estão repletos de valiosas informações que nos permitem vislumbrar a jornada de alguém em busca de força, resistência e bem-estar.\n",
    "\n",
    "À medida que desvendamos essas informações, seguiremos uma abordagem estruturada, combinando as práticas de análise de dados com os princípios fundamentais do condicionamento físico. Esta não é apenas uma exploração de dados, mas principalmente uma exploração de alguns caminhos que podem ser percorridos ao investigar dados; é uma apresentação de ferramentas que podem ser utilizadas.\n",
    "\n",
    "Nosso foco é educativo, visando ao desenvolvimento de habilidades na análise de dados e ao entendimento das possibilidades que ela oferece.\n",
    "\n",
    "Preparamos uma jornada que aborda conceitos da análise exploratória. Começamos pela verificação de dados ausentes e prosseguimos com a sumarização estatística inicial, identificação de duplicatas, exploração de categorias, criação de gráficos elucidativos, identificação de outliers, exame de correlações entre variáveis, entre outras etapas. Estamos, acima de tudo, explorando possibilidades.\n",
    "\n",
    "Este é um projeto com foco educativo a fim de apresentar possibilidades e não necessariamente concluir definitivamente algum problema que possa ser abordado com os dados aqui discutidos. Aproveite essa oportunidade de desenvolvimento e aprendizado, uma maneira de unir os mundos do condicionamento físico e da análise de dados. Estamos prontos para a jornada? Então, bem-vindos a esta exploração de caminhos e possibilidades. Preparem-se para embarcar nesta aventura única, onde dados e condicionamento físico se encontram para revelar segredos e instigar a busca por conhecimento. Boa viagem!"
   ]
  },
  {
   "cell_type": "markdown",
   "id": "18fb5676",
   "metadata": {},
   "source": [
    "Para melhor compreensão do trabalho sugerimos que nesse momento leia-se o [Apêndice](#1) a fim de obter mais informações sobre os dados e também sugerimos a leitura de [Aviso sobre Unidades de Medida](#2).\n",
    "\n",
    "Consulte [Informações sobre as colunas da tabela](#4)"
   ]
  },
  {
   "cell_type": "code",
   "execution_count": 1,
   "id": "32b265ef",
   "metadata": {},
   "outputs": [],
   "source": [
    "import pandas as pd\n",
    "import matplotlib.pyplot as plt\n",
    "import seaborn as sns"
   ]
  },
  {
   "cell_type": "code",
   "execution_count": 2,
   "id": "4c666293",
   "metadata": {},
   "outputs": [],
   "source": [
    "df = pd.read_csv(r'D:\\Jeanco\\Meus projetos\\gym-data\\721 Weight Training Workouts\\weightlifting_721_workouts.csv')"
   ]
  },
  {
   "cell_type": "code",
   "execution_count": 3,
   "id": "9e2650a9",
   "metadata": {},
   "outputs": [
    {
     "data": {
      "text/html": [
       "<div>\n",
       "<style scoped>\n",
       "    .dataframe tbody tr th:only-of-type {\n",
       "        vertical-align: middle;\n",
       "    }\n",
       "\n",
       "    .dataframe tbody tr th {\n",
       "        vertical-align: top;\n",
       "    }\n",
       "\n",
       "    .dataframe thead th {\n",
       "        text-align: right;\n",
       "    }\n",
       "</style>\n",
       "<table border=\"1\" class=\"dataframe\">\n",
       "  <thead>\n",
       "    <tr style=\"text-align: right;\">\n",
       "      <th></th>\n",
       "      <th>Date</th>\n",
       "      <th>Workout Name</th>\n",
       "      <th>Exercise Name</th>\n",
       "      <th>Set Order</th>\n",
       "      <th>Weight</th>\n",
       "      <th>Reps</th>\n",
       "      <th>Distance</th>\n",
       "      <th>Seconds</th>\n",
       "      <th>Notes</th>\n",
       "      <th>Workout Notes</th>\n",
       "    </tr>\n",
       "  </thead>\n",
       "  <tbody>\n",
       "    <tr>\n",
       "      <th>0</th>\n",
       "      <td>2015-10-23 17:06:37</td>\n",
       "      <td>Chest</td>\n",
       "      <td>Incline Bench Press (Barbell)</td>\n",
       "      <td>1</td>\n",
       "      <td>135.0</td>\n",
       "      <td>8</td>\n",
       "      <td>0.0</td>\n",
       "      <td>0</td>\n",
       "      <td>NaN</td>\n",
       "      <td>NaN</td>\n",
       "    </tr>\n",
       "    <tr>\n",
       "      <th>1</th>\n",
       "      <td>2015-10-23 17:06:37</td>\n",
       "      <td>Chest</td>\n",
       "      <td>Incline Bench Press (Barbell)</td>\n",
       "      <td>2</td>\n",
       "      <td>135.0</td>\n",
       "      <td>8</td>\n",
       "      <td>0.0</td>\n",
       "      <td>0</td>\n",
       "      <td>NaN</td>\n",
       "      <td>NaN</td>\n",
       "    </tr>\n",
       "    <tr>\n",
       "      <th>2</th>\n",
       "      <td>2015-10-23 17:06:37</td>\n",
       "      <td>Chest</td>\n",
       "      <td>Incline Bench Press (Barbell)</td>\n",
       "      <td>3</td>\n",
       "      <td>135.0</td>\n",
       "      <td>5</td>\n",
       "      <td>0.0</td>\n",
       "      <td>0</td>\n",
       "      <td>NaN</td>\n",
       "      <td>NaN</td>\n",
       "    </tr>\n",
       "    <tr>\n",
       "      <th>3</th>\n",
       "      <td>2015-10-23 17:06:37</td>\n",
       "      <td>Chest</td>\n",
       "      <td>Incline Bench Press (Barbell)</td>\n",
       "      <td>4</td>\n",
       "      <td>185.0</td>\n",
       "      <td>7</td>\n",
       "      <td>0.0</td>\n",
       "      <td>0</td>\n",
       "      <td>NaN</td>\n",
       "      <td>NaN</td>\n",
       "    </tr>\n",
       "    <tr>\n",
       "      <th>4</th>\n",
       "      <td>2015-10-23 17:06:37</td>\n",
       "      <td>Chest</td>\n",
       "      <td>Incline Bench Press (Barbell)</td>\n",
       "      <td>5</td>\n",
       "      <td>230.0</td>\n",
       "      <td>8</td>\n",
       "      <td>0.0</td>\n",
       "      <td>0</td>\n",
       "      <td>NaN</td>\n",
       "      <td>NaN</td>\n",
       "    </tr>\n",
       "    <tr>\n",
       "      <th>...</th>\n",
       "      <td>...</td>\n",
       "      <td>...</td>\n",
       "      <td>...</td>\n",
       "      <td>...</td>\n",
       "      <td>...</td>\n",
       "      <td>...</td>\n",
       "      <td>...</td>\n",
       "      <td>...</td>\n",
       "      <td>...</td>\n",
       "      <td>...</td>\n",
       "    </tr>\n",
       "    <tr>\n",
       "      <th>9927</th>\n",
       "      <td>2018-09-29 14:35:32</td>\n",
       "      <td>Push - Incline #40</td>\n",
       "      <td>Low Incline Dumbbell Bench</td>\n",
       "      <td>2</td>\n",
       "      <td>170.0</td>\n",
       "      <td>12</td>\n",
       "      <td>0.0</td>\n",
       "      <td>0</td>\n",
       "      <td>NaN</td>\n",
       "      <td>NaN</td>\n",
       "    </tr>\n",
       "    <tr>\n",
       "      <th>9928</th>\n",
       "      <td>2018-09-29 14:35:32</td>\n",
       "      <td>Push - Incline #40</td>\n",
       "      <td>Low Incline Dumbbell Bench</td>\n",
       "      <td>3</td>\n",
       "      <td>170.0</td>\n",
       "      <td>15</td>\n",
       "      <td>0.0</td>\n",
       "      <td>0</td>\n",
       "      <td>NaN</td>\n",
       "      <td>NaN</td>\n",
       "    </tr>\n",
       "    <tr>\n",
       "      <th>9929</th>\n",
       "      <td>2018-09-29 14:35:32</td>\n",
       "      <td>Push - Incline #40</td>\n",
       "      <td>Lateral Raise (Dumbbells)</td>\n",
       "      <td>1</td>\n",
       "      <td>50.0</td>\n",
       "      <td>15</td>\n",
       "      <td>0.0</td>\n",
       "      <td>0</td>\n",
       "      <td>NaN</td>\n",
       "      <td>NaN</td>\n",
       "    </tr>\n",
       "    <tr>\n",
       "      <th>9930</th>\n",
       "      <td>2018-09-29 14:35:32</td>\n",
       "      <td>Push - Incline #40</td>\n",
       "      <td>Lateral Raise (Dumbbells)</td>\n",
       "      <td>2</td>\n",
       "      <td>50.0</td>\n",
       "      <td>15</td>\n",
       "      <td>0.0</td>\n",
       "      <td>0</td>\n",
       "      <td>NaN</td>\n",
       "      <td>NaN</td>\n",
       "    </tr>\n",
       "    <tr>\n",
       "      <th>9931</th>\n",
       "      <td>2018-09-29 14:35:32</td>\n",
       "      <td>Push - Incline #40</td>\n",
       "      <td>Lateral Raise (Dumbbells)</td>\n",
       "      <td>3</td>\n",
       "      <td>50.0</td>\n",
       "      <td>15</td>\n",
       "      <td>0.0</td>\n",
       "      <td>0</td>\n",
       "      <td>NaN</td>\n",
       "      <td>NaN</td>\n",
       "    </tr>\n",
       "  </tbody>\n",
       "</table>\n",
       "<p>9932 rows × 10 columns</p>\n",
       "</div>"
      ],
      "text/plain": [
       "                     Date        Workout Name                  Exercise Name  \\\n",
       "0     2015-10-23 17:06:37               Chest  Incline Bench Press (Barbell)   \n",
       "1     2015-10-23 17:06:37               Chest  Incline Bench Press (Barbell)   \n",
       "2     2015-10-23 17:06:37               Chest  Incline Bench Press (Barbell)   \n",
       "3     2015-10-23 17:06:37               Chest  Incline Bench Press (Barbell)   \n",
       "4     2015-10-23 17:06:37               Chest  Incline Bench Press (Barbell)   \n",
       "...                   ...                 ...                            ...   \n",
       "9927  2018-09-29 14:35:32  Push - Incline #40     Low Incline Dumbbell Bench   \n",
       "9928  2018-09-29 14:35:32  Push - Incline #40     Low Incline Dumbbell Bench   \n",
       "9929  2018-09-29 14:35:32  Push - Incline #40      Lateral Raise (Dumbbells)   \n",
       "9930  2018-09-29 14:35:32  Push - Incline #40      Lateral Raise (Dumbbells)   \n",
       "9931  2018-09-29 14:35:32  Push - Incline #40      Lateral Raise (Dumbbells)   \n",
       "\n",
       "      Set Order  Weight  Reps  Distance  Seconds Notes Workout Notes  \n",
       "0             1   135.0     8       0.0        0   NaN           NaN  \n",
       "1             2   135.0     8       0.0        0   NaN           NaN  \n",
       "2             3   135.0     5       0.0        0   NaN           NaN  \n",
       "3             4   185.0     7       0.0        0   NaN           NaN  \n",
       "4             5   230.0     8       0.0        0   NaN           NaN  \n",
       "...         ...     ...   ...       ...      ...   ...           ...  \n",
       "9927          2   170.0    12       0.0        0   NaN           NaN  \n",
       "9928          3   170.0    15       0.0        0   NaN           NaN  \n",
       "9929          1    50.0    15       0.0        0   NaN           NaN  \n",
       "9930          2    50.0    15       0.0        0   NaN           NaN  \n",
       "9931          3    50.0    15       0.0        0   NaN           NaN  \n",
       "\n",
       "[9932 rows x 10 columns]"
      ]
     },
     "execution_count": 3,
     "metadata": {},
     "output_type": "execute_result"
    }
   ],
   "source": [
    "df"
   ]
  },
  {
   "cell_type": "code",
   "execution_count": 4,
   "id": "baac1aa0",
   "metadata": {
    "scrolled": true
   },
   "outputs": [
    {
     "data": {
      "text/plain": [
       "RangeIndex(start=0, stop=9932, step=1)"
      ]
     },
     "execution_count": 4,
     "metadata": {},
     "output_type": "execute_result"
    }
   ],
   "source": [
    "df.index"
   ]
  },
  {
   "cell_type": "code",
   "execution_count": 5,
   "id": "b5f8f484",
   "metadata": {},
   "outputs": [
    {
     "data": {
      "text/plain": [
       "Index(['Date', 'Workout Name', 'Exercise Name', 'Set Order', 'Weight', 'Reps',\n",
       "       'Distance', 'Seconds', 'Notes', 'Workout Notes'],\n",
       "      dtype='object')"
      ]
     },
     "execution_count": 5,
     "metadata": {},
     "output_type": "execute_result"
    }
   ],
   "source": [
    "df.columns"
   ]
  },
  {
   "cell_type": "markdown",
   "id": "4dc64562",
   "metadata": {},
   "source": [
    "Vamos criar uma cópia do data_frame original:"
   ]
  },
  {
   "cell_type": "code",
   "execution_count": 6,
   "id": "0d49322f",
   "metadata": {},
   "outputs": [],
   "source": [
    "# Criar uma cópia do DataFrame\n",
    "df_copy = df.copy()"
   ]
  },
  {
   "cell_type": "markdown",
   "id": "67823177",
   "metadata": {},
   "source": [
    "O objetivo claro da análise de dados é: desvendar insights valiosos a partir de um conjunto de informações. Mas, antes de começar, há um passo fundamental que todos os aventureiros de dados experientes conhecem: criar uma cópia do DataFrame original. Isso não é apenas um detalhe técnico, mas uma prática essencial. Vamos explorar o porquê.\n",
    "\n",
    "__Preservação dos Dados Originais__: Pense nisso como uma foto emoldurada que você deseja proteger de qualquer dano. Ao criar uma cópia do DataFrame original, você essencialmente tira uma \"foto\" dos seus dados naquele momento. Essa cópia é como a moldura que protege os dados. Ela garante que, mesmo que você faça mudanças no processo de análise, os dados originais permaneçam intocados. É como preservar uma memória preciosa para que você possa voltar a ela sempre que quiser.\n",
    "\n",
    "__Segurança contra Alterações Acidentais__: Agora, imagine que você está fazendo algumas anotações em um livro importante. Às vezes, cometemos erros ou queremos comparar diferentes versões do texto. Ter uma cópia dos dados é como tirar uma \"fotocópia\" do livro antes de fazer anotações. Se algo der errado ou se você quiser voltar à versão original, a cópia estará lá para garantir que você possa fazer isso.\n",
    "\n",
    "__Facilitação de Experimentações__: Quando você começa a explorar os dados, é como entrar em um laboratório de ciências. Você pode querer testar diferentes hipóteses, experimentar novas análises e ajustar os dados para obter informações mais claras. Ter uma cópia do DataFrame original é como trabalhar com materiais experimentais. Você pode mexer, misturar e modificar à vontade, sem se preocupar em estragar o \"original.\"\n",
    "\n",
    "__Reprodutibilidade__: Imagine que você não está sozinho nessa jornada de análise de dados; você tem colegas de equipe ou compartilha seus resultados com outras pessoas. A cópia dos dados serve como uma espécie de \"modelo\" que você compartilha com os outros. Isso garante que todos estejam olhando para os mesmos dados e podem reproduzir seus resultados sem adivinhações.\n",
    "\n",
    "__Rastreabilidade__: Conforme você avança na análise, é importante manter um registro do que foi feito e das mudanças realizadas nos dados. A cópia do DataFrame funciona como um \"diário de laboratório.\" Ela ajuda a documentar o processo de análise, o que é essencial para relatórios, revisões e auditorias. É como manter um histórico de todas as etapas do seu experimento.\n",
    "\n",
    "Então, antes de seguir em frente nessa jornada de análise de dados, lembre-se de criar a sua \"foto,\" a cópia do DataFrame original. Ela será sua companheira leal, garantindo que seus dados permaneçam seguros, suas experimentações fluam sem obstáculos e seus resultados sejam transparentes e reproduzíveis. Agora, com sua cópia em mãos, você está pronto para explorar, questionar e descobrir os segredos escondidos nos seus dados."
   ]
  },
  {
   "cell_type": "code",
   "execution_count": 7,
   "id": "47dcc3c2",
   "metadata": {},
   "outputs": [],
   "source": [
    "# Renomear as colunas para letras minúsculas e substituir espaços por _\n",
    "df_copy.columns = df_copy.columns.str.lower().str.replace(' ', '_')"
   ]
  },
  {
   "cell_type": "code",
   "execution_count": 8,
   "id": "f503348f",
   "metadata": {},
   "outputs": [
    {
     "data": {
      "text/plain": [
       "Index(['date', 'workout_name', 'exercise_name', 'set_order', 'weight', 'reps',\n",
       "       'distance', 'seconds', 'notes', 'workout_notes'],\n",
       "      dtype='object')"
      ]
     },
     "execution_count": 8,
     "metadata": {},
     "output_type": "execute_result"
    }
   ],
   "source": [
    "# Verificar se as colunas foram renomeadas corretamente\n",
    "df_copy.columns"
   ]
  },
  {
   "cell_type": "code",
   "execution_count": 9,
   "id": "a57a84bc",
   "metadata": {},
   "outputs": [
    {
     "data": {
      "text/html": [
       "<div>\n",
       "<style scoped>\n",
       "    .dataframe tbody tr th:only-of-type {\n",
       "        vertical-align: middle;\n",
       "    }\n",
       "\n",
       "    .dataframe tbody tr th {\n",
       "        vertical-align: top;\n",
       "    }\n",
       "\n",
       "    .dataframe thead th {\n",
       "        text-align: right;\n",
       "    }\n",
       "</style>\n",
       "<table border=\"1\" class=\"dataframe\">\n",
       "  <thead>\n",
       "    <tr style=\"text-align: right;\">\n",
       "      <th></th>\n",
       "      <th>date</th>\n",
       "      <th>workout_name</th>\n",
       "      <th>exercise_name</th>\n",
       "      <th>set_order</th>\n",
       "      <th>weight</th>\n",
       "      <th>reps</th>\n",
       "      <th>distance</th>\n",
       "      <th>seconds</th>\n",
       "      <th>notes</th>\n",
       "      <th>workout_notes</th>\n",
       "    </tr>\n",
       "  </thead>\n",
       "  <tbody>\n",
       "    <tr>\n",
       "      <th>0</th>\n",
       "      <td>2015-10-23 17:06:37</td>\n",
       "      <td>Chest</td>\n",
       "      <td>Incline Bench Press (Barbell)</td>\n",
       "      <td>1</td>\n",
       "      <td>135.0</td>\n",
       "      <td>8</td>\n",
       "      <td>0.0</td>\n",
       "      <td>0</td>\n",
       "      <td>NaN</td>\n",
       "      <td>NaN</td>\n",
       "    </tr>\n",
       "    <tr>\n",
       "      <th>1</th>\n",
       "      <td>2015-10-23 17:06:37</td>\n",
       "      <td>Chest</td>\n",
       "      <td>Incline Bench Press (Barbell)</td>\n",
       "      <td>2</td>\n",
       "      <td>135.0</td>\n",
       "      <td>8</td>\n",
       "      <td>0.0</td>\n",
       "      <td>0</td>\n",
       "      <td>NaN</td>\n",
       "      <td>NaN</td>\n",
       "    </tr>\n",
       "    <tr>\n",
       "      <th>2</th>\n",
       "      <td>2015-10-23 17:06:37</td>\n",
       "      <td>Chest</td>\n",
       "      <td>Incline Bench Press (Barbell)</td>\n",
       "      <td>3</td>\n",
       "      <td>135.0</td>\n",
       "      <td>5</td>\n",
       "      <td>0.0</td>\n",
       "      <td>0</td>\n",
       "      <td>NaN</td>\n",
       "      <td>NaN</td>\n",
       "    </tr>\n",
       "    <tr>\n",
       "      <th>3</th>\n",
       "      <td>2015-10-23 17:06:37</td>\n",
       "      <td>Chest</td>\n",
       "      <td>Incline Bench Press (Barbell)</td>\n",
       "      <td>4</td>\n",
       "      <td>185.0</td>\n",
       "      <td>7</td>\n",
       "      <td>0.0</td>\n",
       "      <td>0</td>\n",
       "      <td>NaN</td>\n",
       "      <td>NaN</td>\n",
       "    </tr>\n",
       "    <tr>\n",
       "      <th>4</th>\n",
       "      <td>2015-10-23 17:06:37</td>\n",
       "      <td>Chest</td>\n",
       "      <td>Incline Bench Press (Barbell)</td>\n",
       "      <td>5</td>\n",
       "      <td>230.0</td>\n",
       "      <td>8</td>\n",
       "      <td>0.0</td>\n",
       "      <td>0</td>\n",
       "      <td>NaN</td>\n",
       "      <td>NaN</td>\n",
       "    </tr>\n",
       "    <tr>\n",
       "      <th>...</th>\n",
       "      <td>...</td>\n",
       "      <td>...</td>\n",
       "      <td>...</td>\n",
       "      <td>...</td>\n",
       "      <td>...</td>\n",
       "      <td>...</td>\n",
       "      <td>...</td>\n",
       "      <td>...</td>\n",
       "      <td>...</td>\n",
       "      <td>...</td>\n",
       "    </tr>\n",
       "    <tr>\n",
       "      <th>9927</th>\n",
       "      <td>2018-09-29 14:35:32</td>\n",
       "      <td>Push - Incline #40</td>\n",
       "      <td>Low Incline Dumbbell Bench</td>\n",
       "      <td>2</td>\n",
       "      <td>170.0</td>\n",
       "      <td>12</td>\n",
       "      <td>0.0</td>\n",
       "      <td>0</td>\n",
       "      <td>NaN</td>\n",
       "      <td>NaN</td>\n",
       "    </tr>\n",
       "    <tr>\n",
       "      <th>9928</th>\n",
       "      <td>2018-09-29 14:35:32</td>\n",
       "      <td>Push - Incline #40</td>\n",
       "      <td>Low Incline Dumbbell Bench</td>\n",
       "      <td>3</td>\n",
       "      <td>170.0</td>\n",
       "      <td>15</td>\n",
       "      <td>0.0</td>\n",
       "      <td>0</td>\n",
       "      <td>NaN</td>\n",
       "      <td>NaN</td>\n",
       "    </tr>\n",
       "    <tr>\n",
       "      <th>9929</th>\n",
       "      <td>2018-09-29 14:35:32</td>\n",
       "      <td>Push - Incline #40</td>\n",
       "      <td>Lateral Raise (Dumbbells)</td>\n",
       "      <td>1</td>\n",
       "      <td>50.0</td>\n",
       "      <td>15</td>\n",
       "      <td>0.0</td>\n",
       "      <td>0</td>\n",
       "      <td>NaN</td>\n",
       "      <td>NaN</td>\n",
       "    </tr>\n",
       "    <tr>\n",
       "      <th>9930</th>\n",
       "      <td>2018-09-29 14:35:32</td>\n",
       "      <td>Push - Incline #40</td>\n",
       "      <td>Lateral Raise (Dumbbells)</td>\n",
       "      <td>2</td>\n",
       "      <td>50.0</td>\n",
       "      <td>15</td>\n",
       "      <td>0.0</td>\n",
       "      <td>0</td>\n",
       "      <td>NaN</td>\n",
       "      <td>NaN</td>\n",
       "    </tr>\n",
       "    <tr>\n",
       "      <th>9931</th>\n",
       "      <td>2018-09-29 14:35:32</td>\n",
       "      <td>Push - Incline #40</td>\n",
       "      <td>Lateral Raise (Dumbbells)</td>\n",
       "      <td>3</td>\n",
       "      <td>50.0</td>\n",
       "      <td>15</td>\n",
       "      <td>0.0</td>\n",
       "      <td>0</td>\n",
       "      <td>NaN</td>\n",
       "      <td>NaN</td>\n",
       "    </tr>\n",
       "  </tbody>\n",
       "</table>\n",
       "<p>9932 rows × 10 columns</p>\n",
       "</div>"
      ],
      "text/plain": [
       "                     date        workout_name                  exercise_name  \\\n",
       "0     2015-10-23 17:06:37               Chest  Incline Bench Press (Barbell)   \n",
       "1     2015-10-23 17:06:37               Chest  Incline Bench Press (Barbell)   \n",
       "2     2015-10-23 17:06:37               Chest  Incline Bench Press (Barbell)   \n",
       "3     2015-10-23 17:06:37               Chest  Incline Bench Press (Barbell)   \n",
       "4     2015-10-23 17:06:37               Chest  Incline Bench Press (Barbell)   \n",
       "...                   ...                 ...                            ...   \n",
       "9927  2018-09-29 14:35:32  Push - Incline #40     Low Incline Dumbbell Bench   \n",
       "9928  2018-09-29 14:35:32  Push - Incline #40     Low Incline Dumbbell Bench   \n",
       "9929  2018-09-29 14:35:32  Push - Incline #40      Lateral Raise (Dumbbells)   \n",
       "9930  2018-09-29 14:35:32  Push - Incline #40      Lateral Raise (Dumbbells)   \n",
       "9931  2018-09-29 14:35:32  Push - Incline #40      Lateral Raise (Dumbbells)   \n",
       "\n",
       "      set_order  weight  reps  distance  seconds notes workout_notes  \n",
       "0             1   135.0     8       0.0        0   NaN           NaN  \n",
       "1             2   135.0     8       0.0        0   NaN           NaN  \n",
       "2             3   135.0     5       0.0        0   NaN           NaN  \n",
       "3             4   185.0     7       0.0        0   NaN           NaN  \n",
       "4             5   230.0     8       0.0        0   NaN           NaN  \n",
       "...         ...     ...   ...       ...      ...   ...           ...  \n",
       "9927          2   170.0    12       0.0        0   NaN           NaN  \n",
       "9928          3   170.0    15       0.0        0   NaN           NaN  \n",
       "9929          1    50.0    15       0.0        0   NaN           NaN  \n",
       "9930          2    50.0    15       0.0        0   NaN           NaN  \n",
       "9931          3    50.0    15       0.0        0   NaN           NaN  \n",
       "\n",
       "[9932 rows x 10 columns]"
      ]
     },
     "execution_count": 9,
     "metadata": {},
     "output_type": "execute_result"
    }
   ],
   "source": [
    "#Visualizar o DataFrame df_copy\n",
    "df_copy"
   ]
  },
  {
   "cell_type": "code",
   "execution_count": 10,
   "id": "0b03ecf8",
   "metadata": {},
   "outputs": [
    {
     "data": {
      "text/plain": [
       "(9932, 10)"
      ]
     },
     "execution_count": 10,
     "metadata": {},
     "output_type": "execute_result"
    }
   ],
   "source": [
    "# Verificando quantas linhas e colunas existem no DataFrame df_copy\n",
    "df_copy.shape"
   ]
  },
  {
   "cell_type": "code",
   "execution_count": 11,
   "id": "8d379092",
   "metadata": {},
   "outputs": [
    {
     "data": {
      "text/plain": [
       "date              object\n",
       "workout_name      object\n",
       "exercise_name     object\n",
       "set_order          int64\n",
       "weight           float64\n",
       "reps               int64\n",
       "distance         float64\n",
       "seconds            int64\n",
       "notes             object\n",
       "workout_notes     object\n",
       "dtype: object"
      ]
     },
     "execution_count": 11,
     "metadata": {},
     "output_type": "execute_result"
    }
   ],
   "source": [
    "# Verificar os tipos de dados em df_copy\n",
    "df_copy.dtypes"
   ]
  },
  {
   "cell_type": "markdown",
   "id": "7931de25",
   "metadata": {},
   "source": [
    "Analisar os tipos de dados no DataFrame (df_copy) é crucial. Essa etapa ajuda a compreender a natureza dos dados, diferenciando entre números, categorias e datas, permitindo assim a escolha das técnicas de análise mais adequadas. Essa compreensão é essencial para conduzir análises de forma eficaz e interpretar os resultados com precisão.\n",
    "\n",
    "__date__: É comum converter colunas de data para o tipo de dados datetime para facilitar a manipulação de datas.\n",
    "\n",
    "__set_order__, __reps__, e __seconds__: Parecem estar no tipo de dados correto para números inteiros, dado que representam a ordem de séries, repetições e duração em segundos, respectivamente.\n",
    "\n",
    "__weight__ e __distance__: Estão no tipo de dados float64, o que parece apropriado para valores decimais, como peso e distância.\n",
    "\n",
    "__workout_name__, __exercise_name__, __notes__, e __workout_notes__: Estão no tipo de dados object, que geralmente é usado para texto ou dados não estruturados."
   ]
  },
  {
   "cell_type": "code",
   "execution_count": 12,
   "id": "4e0f1a98",
   "metadata": {},
   "outputs": [],
   "source": [
    "# Modificando o tipo de dados da coluna date de object para datetime\n",
    "df_copy['date'] = pd.to_datetime(df_copy['date'])"
   ]
  },
  {
   "cell_type": "code",
   "execution_count": 13,
   "id": "ccc66400",
   "metadata": {},
   "outputs": [
    {
     "data": {
      "text/plain": [
       "dtype('<M8[ns]')"
      ]
     },
     "execution_count": 13,
     "metadata": {},
     "output_type": "execute_result"
    }
   ],
   "source": [
    "#Verificando se a modificação foi realizada\n",
    "df_copy['date'].dtypes"
   ]
  },
  {
   "cell_type": "markdown",
   "id": "545482eb",
   "metadata": {},
   "source": [
    "O resultado dtype('<M8[ns]') indica que a coluna date foi corretamente convertida para o tipo de dados datetime64[ns], o que é o tipo de dados do pandas para datas e horas."
   ]
  },
  {
   "cell_type": "markdown",
   "id": "2eee4a62",
   "metadata": {},
   "source": [
    "Por que modificamos o tipo da coluna date?\n",
    "\n",
    "\n",
    "- Facilita cálculos e manipulações de data: Uma vez que os dados estão em formato datetime, você pode realizar facilmente operações com datas, como adição ou subtração de dias, semanas, meses ou anos, extrair componentes de data (dia, mês, ano, hora, minuto, etc.), calcular diferenças de datas e muito mais.\n",
    "\n",
    "- Ordenação eficiente: O tipo datetime permite que você ordene seus dados cronologicamente, o que é fundamental em muitas análises de séries temporais.\n",
    "\n",
    "- Filtragem e seleção de dados: Você pode filtrar ou selecionar dados com base em datas ou intervalos de datas de maneira mais intuitiva.\n",
    "\n",
    "- Plotagem de gráficos: Bibliotecas de visualização, como Matplotlib ou Seaborn, lidam bem com datas em formato datetime, permitindo a criação de gráficos mais informativos.\n",
    "\n",
    "- Compatibilidade: Muitas funções e bibliotecas em Python são projetadas para trabalhar com objetos datetime, tornando mais fácil integrar seu DataFrame com outras ferramentas e bibliotecas.\n",
    "\n",
    "Em resumo, a conversão para o tipo datetime torna o trabalho com datas mais eficiente, legível e preciso em análises de dados e manipulação de séries temporais."
   ]
  },
  {
   "cell_type": "code",
   "execution_count": 14,
   "id": "c323e22f",
   "metadata": {},
   "outputs": [
    {
     "data": {
      "text/html": [
       "<div>\n",
       "<style scoped>\n",
       "    .dataframe tbody tr th:only-of-type {\n",
       "        vertical-align: middle;\n",
       "    }\n",
       "\n",
       "    .dataframe tbody tr th {\n",
       "        vertical-align: top;\n",
       "    }\n",
       "\n",
       "    .dataframe thead th {\n",
       "        text-align: right;\n",
       "    }\n",
       "</style>\n",
       "<table border=\"1\" class=\"dataframe\">\n",
       "  <thead>\n",
       "    <tr style=\"text-align: right;\">\n",
       "      <th></th>\n",
       "      <th>date</th>\n",
       "      <th>workout_name</th>\n",
       "      <th>exercise_name</th>\n",
       "      <th>set_order</th>\n",
       "      <th>weight</th>\n",
       "      <th>reps</th>\n",
       "      <th>distance</th>\n",
       "      <th>seconds</th>\n",
       "      <th>notes</th>\n",
       "      <th>workout_notes</th>\n",
       "    </tr>\n",
       "  </thead>\n",
       "  <tbody>\n",
       "    <tr>\n",
       "      <th>0</th>\n",
       "      <td>2015-10-23 17:06:37</td>\n",
       "      <td>Chest</td>\n",
       "      <td>Incline Bench Press (Barbell)</td>\n",
       "      <td>1</td>\n",
       "      <td>135.0</td>\n",
       "      <td>8</td>\n",
       "      <td>0.0</td>\n",
       "      <td>0</td>\n",
       "      <td>NaN</td>\n",
       "      <td>NaN</td>\n",
       "    </tr>\n",
       "    <tr>\n",
       "      <th>1</th>\n",
       "      <td>2015-10-23 17:06:37</td>\n",
       "      <td>Chest</td>\n",
       "      <td>Incline Bench Press (Barbell)</td>\n",
       "      <td>2</td>\n",
       "      <td>135.0</td>\n",
       "      <td>8</td>\n",
       "      <td>0.0</td>\n",
       "      <td>0</td>\n",
       "      <td>NaN</td>\n",
       "      <td>NaN</td>\n",
       "    </tr>\n",
       "    <tr>\n",
       "      <th>2</th>\n",
       "      <td>2015-10-23 17:06:37</td>\n",
       "      <td>Chest</td>\n",
       "      <td>Incline Bench Press (Barbell)</td>\n",
       "      <td>3</td>\n",
       "      <td>135.0</td>\n",
       "      <td>5</td>\n",
       "      <td>0.0</td>\n",
       "      <td>0</td>\n",
       "      <td>NaN</td>\n",
       "      <td>NaN</td>\n",
       "    </tr>\n",
       "    <tr>\n",
       "      <th>3</th>\n",
       "      <td>2015-10-23 17:06:37</td>\n",
       "      <td>Chest</td>\n",
       "      <td>Incline Bench Press (Barbell)</td>\n",
       "      <td>4</td>\n",
       "      <td>185.0</td>\n",
       "      <td>7</td>\n",
       "      <td>0.0</td>\n",
       "      <td>0</td>\n",
       "      <td>NaN</td>\n",
       "      <td>NaN</td>\n",
       "    </tr>\n",
       "    <tr>\n",
       "      <th>4</th>\n",
       "      <td>2015-10-23 17:06:37</td>\n",
       "      <td>Chest</td>\n",
       "      <td>Incline Bench Press (Barbell)</td>\n",
       "      <td>5</td>\n",
       "      <td>230.0</td>\n",
       "      <td>8</td>\n",
       "      <td>0.0</td>\n",
       "      <td>0</td>\n",
       "      <td>NaN</td>\n",
       "      <td>NaN</td>\n",
       "    </tr>\n",
       "    <tr>\n",
       "      <th>...</th>\n",
       "      <td>...</td>\n",
       "      <td>...</td>\n",
       "      <td>...</td>\n",
       "      <td>...</td>\n",
       "      <td>...</td>\n",
       "      <td>...</td>\n",
       "      <td>...</td>\n",
       "      <td>...</td>\n",
       "      <td>...</td>\n",
       "      <td>...</td>\n",
       "    </tr>\n",
       "    <tr>\n",
       "      <th>9927</th>\n",
       "      <td>2018-09-29 14:35:32</td>\n",
       "      <td>Push - Incline #40</td>\n",
       "      <td>Low Incline Dumbbell Bench</td>\n",
       "      <td>2</td>\n",
       "      <td>170.0</td>\n",
       "      <td>12</td>\n",
       "      <td>0.0</td>\n",
       "      <td>0</td>\n",
       "      <td>NaN</td>\n",
       "      <td>NaN</td>\n",
       "    </tr>\n",
       "    <tr>\n",
       "      <th>9928</th>\n",
       "      <td>2018-09-29 14:35:32</td>\n",
       "      <td>Push - Incline #40</td>\n",
       "      <td>Low Incline Dumbbell Bench</td>\n",
       "      <td>3</td>\n",
       "      <td>170.0</td>\n",
       "      <td>15</td>\n",
       "      <td>0.0</td>\n",
       "      <td>0</td>\n",
       "      <td>NaN</td>\n",
       "      <td>NaN</td>\n",
       "    </tr>\n",
       "    <tr>\n",
       "      <th>9929</th>\n",
       "      <td>2018-09-29 14:35:32</td>\n",
       "      <td>Push - Incline #40</td>\n",
       "      <td>Lateral Raise (Dumbbells)</td>\n",
       "      <td>1</td>\n",
       "      <td>50.0</td>\n",
       "      <td>15</td>\n",
       "      <td>0.0</td>\n",
       "      <td>0</td>\n",
       "      <td>NaN</td>\n",
       "      <td>NaN</td>\n",
       "    </tr>\n",
       "    <tr>\n",
       "      <th>9930</th>\n",
       "      <td>2018-09-29 14:35:32</td>\n",
       "      <td>Push - Incline #40</td>\n",
       "      <td>Lateral Raise (Dumbbells)</td>\n",
       "      <td>2</td>\n",
       "      <td>50.0</td>\n",
       "      <td>15</td>\n",
       "      <td>0.0</td>\n",
       "      <td>0</td>\n",
       "      <td>NaN</td>\n",
       "      <td>NaN</td>\n",
       "    </tr>\n",
       "    <tr>\n",
       "      <th>9931</th>\n",
       "      <td>2018-09-29 14:35:32</td>\n",
       "      <td>Push - Incline #40</td>\n",
       "      <td>Lateral Raise (Dumbbells)</td>\n",
       "      <td>3</td>\n",
       "      <td>50.0</td>\n",
       "      <td>15</td>\n",
       "      <td>0.0</td>\n",
       "      <td>0</td>\n",
       "      <td>NaN</td>\n",
       "      <td>NaN</td>\n",
       "    </tr>\n",
       "  </tbody>\n",
       "</table>\n",
       "<p>9932 rows × 10 columns</p>\n",
       "</div>"
      ],
      "text/plain": [
       "                    date        workout_name                  exercise_name  \\\n",
       "0    2015-10-23 17:06:37               Chest  Incline Bench Press (Barbell)   \n",
       "1    2015-10-23 17:06:37               Chest  Incline Bench Press (Barbell)   \n",
       "2    2015-10-23 17:06:37               Chest  Incline Bench Press (Barbell)   \n",
       "3    2015-10-23 17:06:37               Chest  Incline Bench Press (Barbell)   \n",
       "4    2015-10-23 17:06:37               Chest  Incline Bench Press (Barbell)   \n",
       "...                  ...                 ...                            ...   \n",
       "9927 2018-09-29 14:35:32  Push - Incline #40     Low Incline Dumbbell Bench   \n",
       "9928 2018-09-29 14:35:32  Push - Incline #40     Low Incline Dumbbell Bench   \n",
       "9929 2018-09-29 14:35:32  Push - Incline #40      Lateral Raise (Dumbbells)   \n",
       "9930 2018-09-29 14:35:32  Push - Incline #40      Lateral Raise (Dumbbells)   \n",
       "9931 2018-09-29 14:35:32  Push - Incline #40      Lateral Raise (Dumbbells)   \n",
       "\n",
       "      set_order  weight  reps  distance  seconds notes workout_notes  \n",
       "0             1   135.0     8       0.0        0   NaN           NaN  \n",
       "1             2   135.0     8       0.0        0   NaN           NaN  \n",
       "2             3   135.0     5       0.0        0   NaN           NaN  \n",
       "3             4   185.0     7       0.0        0   NaN           NaN  \n",
       "4             5   230.0     8       0.0        0   NaN           NaN  \n",
       "...         ...     ...   ...       ...      ...   ...           ...  \n",
       "9927          2   170.0    12       0.0        0   NaN           NaN  \n",
       "9928          3   170.0    15       0.0        0   NaN           NaN  \n",
       "9929          1    50.0    15       0.0        0   NaN           NaN  \n",
       "9930          2    50.0    15       0.0        0   NaN           NaN  \n",
       "9931          3    50.0    15       0.0        0   NaN           NaN  \n",
       "\n",
       "[9932 rows x 10 columns]"
      ]
     },
     "execution_count": 14,
     "metadata": {},
     "output_type": "execute_result"
    }
   ],
   "source": [
    "df_copy"
   ]
  },
  {
   "cell_type": "markdown",
   "id": "578b8aea",
   "metadata": {},
   "source": [
    "# 1 Lidando com valores ausentes "
   ]
  },
  {
   "cell_type": "markdown",
   "id": "450a29c7",
   "metadata": {},
   "source": [
    "Antes de avançarmos para análises de estatísticas básicas na tabela, é uma boa prática realizar algumas verificações iniciais para garantir a qualidade dos dados e entender melhor com o que estamos lidando. Vamos começar verificando dados ausentes."
   ]
  },
  {
   "cell_type": "code",
   "execution_count": 15,
   "id": "fa9659bd",
   "metadata": {},
   "outputs": [
    {
     "data": {
      "text/plain": [
       "date                0\n",
       "workout_name        0\n",
       "exercise_name       0\n",
       "set_order           0\n",
       "weight              0\n",
       "reps                0\n",
       "distance            0\n",
       "seconds             0\n",
       "notes            9925\n",
       "workout_notes    9929\n",
       "dtype: int64"
      ]
     },
     "execution_count": 15,
     "metadata": {},
     "output_type": "execute_result"
    }
   ],
   "source": [
    "# Verificação de dados ausentes (Missing Data)\n",
    "df_copy.isnull().sum()"
   ]
  },
  {
   "cell_type": "markdown",
   "id": "9287906f",
   "metadata": {},
   "source": [
    "Notamos anteriormente que essa tabela possui 9932 linhas. Perceba agora que ao verificarmos a quantidade de dados nulos, vemos nas colunas __notes__ e __workout_notes__ 9925 e 9929 valores nulos para cada uma dessas colunas, respectivamente. É quase o total de linhas para cada coluna, ou seja, falta muita informação aí.\n",
    "\n",
    "Mas e daí?\n",
    "\n",
    "Imagine-se que você está realizando uma expedição por essa tabela.\n",
    "\n",
    "Cada linha representa um momento de dedicação ao condicionamento físico, mas à medida que você avança, depara-se com um enigma intrigante: os dados ausentes.\n",
    "\n",
    "Na sua jornada de análise, a tabela revela uma série de colunas, cada uma com seu próprio significado. A data (__date__), o nome do treino (__workout_name__), o exercício em questão (__exercise_name__), a ordem do conjunto (__set_order__), o peso levantado (__weight__), as repetições (__reps__), a distância percorrida (__distance__) e a duração de cada conjunto (__seconds__) são informações sólidas e confiáveis, não há dados faltando nelas. No entanto, duas colunas, notas e notas de treinamento (__notes__ e __workout_notes__), parecem enigmáticas, com um número considerável de valores ausentes.\n",
    "Aqui, surge uma questão natural: por que essa atenção especial aos valores ausentes? O segredo reside na qualidade dos dados e na integridade das análises que você deseja realizar.\n",
    "\n",
    "Primeiramente, esses valores ausentes indicam ou podem indicar potenciais desafios na qualidade dos dados. Os valores faltando podem ter surgido por diversas razões, como falhas na coleta de informações ou, talvez, alguns registros simplesmente não incluíram notas pessoais ou observações sobre os treinos. Nesse caso, parece que os registros não foram incluídos. Seja honesto, quantas pessoas você acha que se registrassem seus treinos todos os dias, deixariam notas? Talvez muitas considerem importante saber quanto peso foi levantado, o tempo de treino, mas eventualmente ou nunca escreveriam notas sobre o dia do treino.\n",
    "\n",
    "Essa é uma questão intrigante que poderia ser explorada com análise de dados: quantas pessoas realmente escrevem notas sobre o treino do dia? Essa investigação poderia nos fornecer insights sobre o quão comum é o hábito de documentar detalhes do treinamento e se isso varia de acordo com os indivíduos ou outros fatores. Os dados ausentes não são apenas enigmas a serem resolvidos, mas também portas que podem levar a novas descobertas e compreensões.\n",
    "\n",
    "Então, por que a análise dos valores ausentes é importante? A resposta é simples: valores ausentes têm o poder de afetar a precisão e validade de análises estatísticas. Ignorá-los sem considerar seu impacto pode levá-lo a conclusões precipitadas ou distorcidas, o que é contraproducente na busca por informações precisas.\n",
    "\n",
    "Agora que você identificou a extensão dos valores ausentes usando __df.isnull().sum()__, você está preparado para tomar decisões informadas. No caso das colunas \"notes\" e \"workout_notes,\" há uma grande quantidade de valores ausentes (9925 e 9929, respectivamente). Agora, você pode escolher como lidar com eles de maneira apropriada:\n",
    "\n",
    "- Preenchimento: Pode ser uma opção, preenchendo esses espaços vazios com valores padrão ou até mesmo com informações inferidas de outras colunas, se aplicável.\n",
    "\n",
    "- Remoção: Em casos extremos, pode ser considerada a remoção dessas colunas, desde que elas não sejam cruciais para suas análises.\n",
    "\n",
    "Essas decisões, que estão em suas mãos, são essenciais para garantir que suas análises sejam sólidas e que você extraia informações valiosas da tabela.\n",
    "\n",
    "E assim, sua exploração dos dados continua, agora com uma compreensão mais profunda da importância de identificar e lidar com valores ausentes, uma parte essencial de sua busca por conhecimento nas entranhas da tabela de registros de exercícios."
   ]
  },
  {
   "cell_type": "markdown",
   "id": "97157abd",
   "metadata": {},
   "source": [
    "# 2 Sumarização estatística inicial"
   ]
  },
  {
   "cell_type": "code",
   "execution_count": 16,
   "id": "e51f4eb0",
   "metadata": {},
   "outputs": [
    {
     "data": {
      "text/html": [
       "<div>\n",
       "<style scoped>\n",
       "    .dataframe tbody tr th:only-of-type {\n",
       "        vertical-align: middle;\n",
       "    }\n",
       "\n",
       "    .dataframe tbody tr th {\n",
       "        vertical-align: top;\n",
       "    }\n",
       "\n",
       "    .dataframe thead th {\n",
       "        text-align: right;\n",
       "    }\n",
       "</style>\n",
       "<table border=\"1\" class=\"dataframe\">\n",
       "  <thead>\n",
       "    <tr style=\"text-align: right;\">\n",
       "      <th></th>\n",
       "      <th>date</th>\n",
       "      <th>set_order</th>\n",
       "      <th>weight</th>\n",
       "      <th>reps</th>\n",
       "      <th>distance</th>\n",
       "      <th>seconds</th>\n",
       "    </tr>\n",
       "  </thead>\n",
       "  <tbody>\n",
       "    <tr>\n",
       "      <th>count</th>\n",
       "      <td>9932</td>\n",
       "      <td>9932.000000</td>\n",
       "      <td>9932.000000</td>\n",
       "      <td>9932.000000</td>\n",
       "      <td>9932.000000</td>\n",
       "      <td>9932.000000</td>\n",
       "    </tr>\n",
       "    <tr>\n",
       "      <th>mean</th>\n",
       "      <td>2017-03-24 11:35:01.087494912</td>\n",
       "      <td>3.109847</td>\n",
       "      <td>171.967540</td>\n",
       "      <td>8.688884</td>\n",
       "      <td>0.089011</td>\n",
       "      <td>1.048429</td>\n",
       "    </tr>\n",
       "    <tr>\n",
       "      <th>min</th>\n",
       "      <td>2015-10-23 17:06:37</td>\n",
       "      <td>1.000000</td>\n",
       "      <td>0.000000</td>\n",
       "      <td>0.000000</td>\n",
       "      <td>0.000000</td>\n",
       "      <td>0.000000</td>\n",
       "    </tr>\n",
       "    <tr>\n",
       "      <th>25%</th>\n",
       "      <td>2016-04-29 19:33:54</td>\n",
       "      <td>2.000000</td>\n",
       "      <td>85.000000</td>\n",
       "      <td>6.000000</td>\n",
       "      <td>0.000000</td>\n",
       "      <td>0.000000</td>\n",
       "    </tr>\n",
       "    <tr>\n",
       "      <th>50%</th>\n",
       "      <td>2017-02-21 21:05:28</td>\n",
       "      <td>3.000000</td>\n",
       "      <td>165.000000</td>\n",
       "      <td>8.000000</td>\n",
       "      <td>0.000000</td>\n",
       "      <td>0.000000</td>\n",
       "    </tr>\n",
       "    <tr>\n",
       "      <th>75%</th>\n",
       "      <td>2018-01-24 08:26:21</td>\n",
       "      <td>4.000000</td>\n",
       "      <td>237.500000</td>\n",
       "      <td>10.000000</td>\n",
       "      <td>0.000000</td>\n",
       "      <td>0.000000</td>\n",
       "    </tr>\n",
       "    <tr>\n",
       "      <th>max</th>\n",
       "      <td>2018-09-29 14:35:32</td>\n",
       "      <td>11.000000</td>\n",
       "      <td>2956.000000</td>\n",
       "      <td>60.000000</td>\n",
       "      <td>363.000000</td>\n",
       "      <td>1260.000000</td>\n",
       "    </tr>\n",
       "    <tr>\n",
       "      <th>std</th>\n",
       "      <td>NaN</td>\n",
       "      <td>1.986896</td>\n",
       "      <td>117.993654</td>\n",
       "      <td>3.092516</td>\n",
       "      <td>5.277076</td>\n",
       "      <td>29.424260</td>\n",
       "    </tr>\n",
       "  </tbody>\n",
       "</table>\n",
       "</div>"
      ],
      "text/plain": [
       "                                date    set_order       weight         reps  \\\n",
       "count                           9932  9932.000000  9932.000000  9932.000000   \n",
       "mean   2017-03-24 11:35:01.087494912     3.109847   171.967540     8.688884   \n",
       "min              2015-10-23 17:06:37     1.000000     0.000000     0.000000   \n",
       "25%              2016-04-29 19:33:54     2.000000    85.000000     6.000000   \n",
       "50%              2017-02-21 21:05:28     3.000000   165.000000     8.000000   \n",
       "75%              2018-01-24 08:26:21     4.000000   237.500000    10.000000   \n",
       "max              2018-09-29 14:35:32    11.000000  2956.000000    60.000000   \n",
       "std                              NaN     1.986896   117.993654     3.092516   \n",
       "\n",
       "          distance      seconds  \n",
       "count  9932.000000  9932.000000  \n",
       "mean      0.089011     1.048429  \n",
       "min       0.000000     0.000000  \n",
       "25%       0.000000     0.000000  \n",
       "50%       0.000000     0.000000  \n",
       "75%       0.000000     0.000000  \n",
       "max     363.000000  1260.000000  \n",
       "std       5.277076    29.424260  "
      ]
     },
     "execution_count": 16,
     "metadata": {},
     "output_type": "execute_result"
    }
   ],
   "source": [
    "df_copy.describe()"
   ]
  },
  {
   "cell_type": "markdown",
   "id": "3f62cbb5",
   "metadata": {},
   "source": [
    "À medida que você enfrenta os desafios dos dados ausentes, agora é hora de desvendar os segredos das estatísticas básicas de suas colunas numéricas. Após cuidadosamente explorar os valores ausentes em suas colunas, você se depara com as estatísticas resumidas geradas para as variáveis que descrevem o desempenho nos treinos, tais como __set_order__, __weight__, __reps__, __distance__, e __seconds__.\n",
    "\n",
    "Quando realizamos uma análise de dados, uma das primeiras etapas é obter uma visão geral das estatísticas básicas das colunas numéricas em nosso DataFrame. O método describe é uma ferramenta útil para essa finalidade. Ele fornece informações cruciais que nos ajudam a entender os dados de forma mais profunda. Vamos explorar o que cada parte do describe nos diz:\n",
    "\n",
    "- Contagem (__count__): Este é o número total de registros disponíveis para cada coluna. É importante porque nos indica se há dados ausentes. Uma contagem próxima ao número total de linhas sugere que poucos dados estão faltando.\n",
    "\n",
    "- Média (__mean__): A média representa o valor médio dos dados em uma coluna. É útil para entender o valor médio em uma distribuição.\n",
    "\n",
    "- Desvio Padrão (__std__): O desvio padrão mede a dispersão dos dados em relação à média. Um desvio padrão maior indica maior variação nos dados.\n",
    "\n",
    "- Valor Mínimo (__min__) e Valor Máximo (__max__): Esses valores nos indicam o mínimo e o máximo em uma coluna, ajudando a identificar limites inferiores e superiores dos dados.\n",
    "\n",
    "- Quartis (__25%, 50%, 75%__): Os quartis dividem os dados em quatro partes iguais. O quartil de 50% é a mediana, que representa o valor do meio. Os quartis de 25% e 75% dividem os dados em quartos.\n",
    "\n",
    "Essas estatísticas nos auxiliam a ter uma compreensão inicial de como os dados estão distribuídos e se há valores atípicos."
   ]
  },
  {
   "cell_type": "markdown",
   "id": "7fe42392",
   "metadata": {},
   "source": [
    "## 2.1 Agora uma pergunta que pode ter surgido após utilizar o describe"
   ]
  },
  {
   "cell_type": "markdown",
   "id": "343d97a3",
   "metadata": {},
   "source": [
    "À medida que continuamos a nossa exploração dos dados, você pode estar se perguntando por que não analisamos todas as colunas da tabela com a função describe. A resposta é simples: nem todas as colunas são numéricas. A função describe é particularmente útil para resumir estatísticas de colunas numéricas, como ordem do conjunto (Set_order), peso levantado (Weight), repetições (Reps), distância (Distance) e duração em segundos (Seconds).\n",
    "\n",
    "No entanto, há colunas na nossa tabela, como 'date' e 'workout_name,' que contêm informações não numéricas, como datas e nomes. O describe não fornece estatísticas significativas para essas colunas, pois as medidas estatísticas mencionadas anteriormente não se aplicam a dados categóricos. Portanto, para essas colunas, é necessário adotar abordagens diferentes, como a contagem de valores únicos ou a análise de tendências categóricas.\n",
    "\n",
    "À medida que avançamos em nossa jornada analítica, lembre-se de que as ferramentas e técnicas que usamos podem variar de acordo com o tipo de dado que estamos analisando. Cada coluna é única e requer uma abordagem específica."
   ]
  },
  {
   "cell_type": "markdown",
   "id": "c13cedfc",
   "metadata": {},
   "source": [
    "# 3 Identificando dados duplicados "
   ]
  },
  {
   "cell_type": "code",
   "execution_count": 17,
   "id": "21908f39",
   "metadata": {
    "scrolled": true
   },
   "outputs": [
    {
     "data": {
      "text/plain": [
       "790"
      ]
     },
     "execution_count": 17,
     "metadata": {},
     "output_type": "execute_result"
    }
   ],
   "source": [
    "df_copy.duplicated().sum()"
   ]
  },
  {
   "cell_type": "markdown",
   "id": "b58231fb",
   "metadata": {},
   "source": [
    "Chegamos ao ponto crucial de identificar e entender dados duplicados. Ao aplicar o método df_copy.duplicated().sum(), observamos que existem 790 entradas duplicadas em nossa tabela. Saber disso é relevante por várias razões. Primeiro, dados duplicados podem distorcer as análises, levando a conclusões imprecisas e viés nos resultados. Além disso, ao entender a natureza das duplicatas, podemos identificar possíveis erros na coleta ou entrada de dados. Isso é valioso para garantir a qualidade dos dados e, consequentemente, a confiabilidade de nossas análises. Analisar duplicatas também nos permite avaliar a consistência do registro e ajuda a manter a integridade de nosso conjunto de dados à medida que avançamos "
   ]
  },
  {
   "cell_type": "markdown",
   "id": "1ec38ab8",
   "metadata": {},
   "source": [
    "## 3.1 Especificando os dados duplicados "
   ]
  },
  {
   "cell_type": "code",
   "execution_count": 18,
   "id": "c99b196b",
   "metadata": {},
   "outputs": [
    {
     "data": {
      "text/html": [
       "<div>\n",
       "<style scoped>\n",
       "    .dataframe tbody tr th:only-of-type {\n",
       "        vertical-align: middle;\n",
       "    }\n",
       "\n",
       "    .dataframe tbody tr th {\n",
       "        vertical-align: top;\n",
       "    }\n",
       "\n",
       "    .dataframe thead th {\n",
       "        text-align: right;\n",
       "    }\n",
       "</style>\n",
       "<table border=\"1\" class=\"dataframe\">\n",
       "  <thead>\n",
       "    <tr style=\"text-align: right;\">\n",
       "      <th></th>\n",
       "      <th>date</th>\n",
       "      <th>workout_name</th>\n",
       "      <th>exercise_name</th>\n",
       "      <th>set_order</th>\n",
       "      <th>weight</th>\n",
       "      <th>reps</th>\n",
       "      <th>distance</th>\n",
       "      <th>seconds</th>\n",
       "      <th>notes</th>\n",
       "      <th>workout_notes</th>\n",
       "    </tr>\n",
       "  </thead>\n",
       "  <tbody>\n",
       "    <tr>\n",
       "      <th>18</th>\n",
       "      <td>2015-10-23 17:06:37</td>\n",
       "      <td>Chest</td>\n",
       "      <td>Weighted dips</td>\n",
       "      <td>1</td>\n",
       "      <td>220.0</td>\n",
       "      <td>8</td>\n",
       "      <td>0.0</td>\n",
       "      <td>0</td>\n",
       "      <td>NaN</td>\n",
       "      <td>NaN</td>\n",
       "    </tr>\n",
       "    <tr>\n",
       "      <th>19</th>\n",
       "      <td>2015-10-23 17:06:37</td>\n",
       "      <td>Chest</td>\n",
       "      <td>Weighted dips</td>\n",
       "      <td>2</td>\n",
       "      <td>315.0</td>\n",
       "      <td>8</td>\n",
       "      <td>0.0</td>\n",
       "      <td>0</td>\n",
       "      <td>NaN</td>\n",
       "      <td>NaN</td>\n",
       "    </tr>\n",
       "    <tr>\n",
       "      <th>20</th>\n",
       "      <td>2015-10-23 17:06:37</td>\n",
       "      <td>Chest</td>\n",
       "      <td>Weighted dips</td>\n",
       "      <td>3</td>\n",
       "      <td>315.0</td>\n",
       "      <td>8</td>\n",
       "      <td>0.0</td>\n",
       "      <td>0</td>\n",
       "      <td>NaN</td>\n",
       "      <td>NaN</td>\n",
       "    </tr>\n",
       "    <tr>\n",
       "      <th>21</th>\n",
       "      <td>2015-10-23 17:06:37</td>\n",
       "      <td>Chest</td>\n",
       "      <td>Weighted dips</td>\n",
       "      <td>4</td>\n",
       "      <td>315.0</td>\n",
       "      <td>8</td>\n",
       "      <td>0.0</td>\n",
       "      <td>0</td>\n",
       "      <td>NaN</td>\n",
       "      <td>NaN</td>\n",
       "    </tr>\n",
       "    <tr>\n",
       "      <th>59</th>\n",
       "      <td>2015-10-24 10:19:52</td>\n",
       "      <td>Back</td>\n",
       "      <td>Chin Up</td>\n",
       "      <td>1</td>\n",
       "      <td>47.5</td>\n",
       "      <td>8</td>\n",
       "      <td>0.0</td>\n",
       "      <td>0</td>\n",
       "      <td>NaN</td>\n",
       "      <td>NaN</td>\n",
       "    </tr>\n",
       "    <tr>\n",
       "      <th>...</th>\n",
       "      <td>...</td>\n",
       "      <td>...</td>\n",
       "      <td>...</td>\n",
       "      <td>...</td>\n",
       "      <td>...</td>\n",
       "      <td>...</td>\n",
       "      <td>...</td>\n",
       "      <td>...</td>\n",
       "      <td>...</td>\n",
       "      <td>...</td>\n",
       "    </tr>\n",
       "    <tr>\n",
       "      <th>9902</th>\n",
       "      <td>2018-09-27 19:58:23</td>\n",
       "      <td>Legs - Heavy #34</td>\n",
       "      <td>Squat (Barbell)</td>\n",
       "      <td>10</td>\n",
       "      <td>275.0</td>\n",
       "      <td>6</td>\n",
       "      <td>0.0</td>\n",
       "      <td>0</td>\n",
       "      <td>NaN</td>\n",
       "      <td>NaN</td>\n",
       "    </tr>\n",
       "    <tr>\n",
       "      <th>9903</th>\n",
       "      <td>2018-09-27 19:58:23</td>\n",
       "      <td>Legs - Heavy #34</td>\n",
       "      <td>Leg curl</td>\n",
       "      <td>1</td>\n",
       "      <td>135.0</td>\n",
       "      <td>10</td>\n",
       "      <td>0.0</td>\n",
       "      <td>0</td>\n",
       "      <td>NaN</td>\n",
       "      <td>NaN</td>\n",
       "    </tr>\n",
       "    <tr>\n",
       "      <th>9904</th>\n",
       "      <td>2018-09-27 19:58:23</td>\n",
       "      <td>Legs - Heavy #34</td>\n",
       "      <td>Leg curl</td>\n",
       "      <td>2</td>\n",
       "      <td>135.0</td>\n",
       "      <td>10</td>\n",
       "      <td>0.0</td>\n",
       "      <td>0</td>\n",
       "      <td>NaN</td>\n",
       "      <td>NaN</td>\n",
       "    </tr>\n",
       "    <tr>\n",
       "      <th>9905</th>\n",
       "      <td>2018-09-27 19:58:23</td>\n",
       "      <td>Legs - Heavy #34</td>\n",
       "      <td>Leg curl</td>\n",
       "      <td>3</td>\n",
       "      <td>120.0</td>\n",
       "      <td>11</td>\n",
       "      <td>0.0</td>\n",
       "      <td>0</td>\n",
       "      <td>NaN</td>\n",
       "      <td>NaN</td>\n",
       "    </tr>\n",
       "    <tr>\n",
       "      <th>9906</th>\n",
       "      <td>2018-09-27 19:58:23</td>\n",
       "      <td>Legs - Heavy #34</td>\n",
       "      <td>Leg curl</td>\n",
       "      <td>4</td>\n",
       "      <td>115.0</td>\n",
       "      <td>10</td>\n",
       "      <td>0.0</td>\n",
       "      <td>0</td>\n",
       "      <td>NaN</td>\n",
       "      <td>NaN</td>\n",
       "    </tr>\n",
       "  </tbody>\n",
       "</table>\n",
       "<p>790 rows × 10 columns</p>\n",
       "</div>"
      ],
      "text/plain": [
       "                    date      workout_name    exercise_name  set_order  \\\n",
       "18   2015-10-23 17:06:37             Chest    Weighted dips          1   \n",
       "19   2015-10-23 17:06:37             Chest    Weighted dips          2   \n",
       "20   2015-10-23 17:06:37             Chest    Weighted dips          3   \n",
       "21   2015-10-23 17:06:37             Chest    Weighted dips          4   \n",
       "59   2015-10-24 10:19:52              Back          Chin Up          1   \n",
       "...                  ...               ...              ...        ...   \n",
       "9902 2018-09-27 19:58:23  Legs - Heavy #34  Squat (Barbell)         10   \n",
       "9903 2018-09-27 19:58:23  Legs - Heavy #34         Leg curl          1   \n",
       "9904 2018-09-27 19:58:23  Legs - Heavy #34         Leg curl          2   \n",
       "9905 2018-09-27 19:58:23  Legs - Heavy #34         Leg curl          3   \n",
       "9906 2018-09-27 19:58:23  Legs - Heavy #34         Leg curl          4   \n",
       "\n",
       "      weight  reps  distance  seconds notes workout_notes  \n",
       "18     220.0     8       0.0        0   NaN           NaN  \n",
       "19     315.0     8       0.0        0   NaN           NaN  \n",
       "20     315.0     8       0.0        0   NaN           NaN  \n",
       "21     315.0     8       0.0        0   NaN           NaN  \n",
       "59      47.5     8       0.0        0   NaN           NaN  \n",
       "...      ...   ...       ...      ...   ...           ...  \n",
       "9902   275.0     6       0.0        0   NaN           NaN  \n",
       "9903   135.0    10       0.0        0   NaN           NaN  \n",
       "9904   135.0    10       0.0        0   NaN           NaN  \n",
       "9905   120.0    11       0.0        0   NaN           NaN  \n",
       "9906   115.0    10       0.0        0   NaN           NaN  \n",
       "\n",
       "[790 rows x 10 columns]"
      ]
     },
     "execution_count": 18,
     "metadata": {},
     "output_type": "execute_result"
    }
   ],
   "source": [
    "df_copy[df_copy.duplicated()]"
   ]
  },
  {
   "cell_type": "markdown",
   "id": "02294b20",
   "metadata": {},
   "source": [
    "Nossa jornada nos conduziu a uma investigação mais aprofundada, revelando a presença de entradas duplicadas em nosso conjunto de dados. Analisando esses registros duplicados, podemos obter insights valiosos. \n",
    "\n",
    "Consideremos um cenário em que detectamos duplicatas com base em datas. Isso pode nos permitir identificar padrões de repetição nos exercícios realizados pelos atletas em datas específicas, o que pode; por exemplo, ter implicações significativas na análise de condicionamento físico, permitindo-nos compreender se certos exercícios são mais frequentes em determinados períodos, como feriados ou fins de semana.\n",
    "\n",
    "Lembre-se de que, em análise de dados, a atenção aos detalhes é fundamental. Ao identificar e lidar com duplicatas específicas, estamos dando um passo importante em direção à compreensão completa de nossos dados. É nesse nível de detalhe que encontramos oportunidades para aprender, ajustar e aprimorar nossas análises de fitness.\n",
    "\n",
    "Consulte no apêndice [Considerações adicionais fundamentais sobre dados duplicados](#3) "
   ]
  },
  {
   "cell_type": "markdown",
   "id": "2fa79707",
   "metadata": {},
   "source": [
    "## 3.2 Resolvendo duplicatas\n",
    "\n",
    "Agora que identificamos as 790 entradas duplicadas em nossa tabela, é hora de considerar como abordar essa questão. Existem várias maneiras de lidar com dados duplicados, dependendo do contexto da análise.\n",
    "\n",
    "Imagine que, em nossa jornada de exploração de dados, nos deparamos com um cenário em que as duplicatas são indesejáveis. Por exemplo, se estivermos trabalhando com registros de transações financeiras, duplicatas podem levar a cálculos incorretos e análises distorcidas. Nesse caso, uma abordagem comum é remover as duplicatas, mantendo apenas a primeira ocorrência de cada entrada repetida.\n",
    "\n",
    "No entanto, há situações em que duplicatas podem ser informativas, pode ser que para essa tabela de registro de exercícios físicos, as duplicatas sejam coerentes e úteis, ou se estivermos monitorando eventos de rastreamento de website, múltiplas entradas duplicadas para a mesma ação podem indicar maior interesse dos usuários. Aqui, em vez de removê-las, pode ser relevante manter as duplicatas, mas com uma abordagem de contagem. Isso nos permitiria analisar a intensidade do envolvimento dos usuários com mais precisão.\n",
    "\n",
    "Portanto, o método escolhido para resolver duplicatas dependerá da natureza dos dados e dos objetivos da análise. É importante que o analista compreenda quando é apropriado remover duplicatas e quando é mais vantajoso mantê-las, pois isso afetará diretamente os resultados obtidos nas análises."
   ]
  },
  {
   "cell_type": "markdown",
   "id": "4f1500ca",
   "metadata": {},
   "source": [
    "### 3.2.1 Exemplos gerais para exclusão dados duplicados"
   ]
  },
  {
   "cell_type": "markdown",
   "id": "0e754f5a",
   "metadata": {},
   "source": [
    "Para garantir a consistência nas etapas posteriores, vamos criar uma segunda cópia do DataFrame para exemplificar a exclusão de duplicatas. O objetivo é utilizar os dados originais em todas as etapas do nosso trabalho, o que nos permitirá demonstrar o uso das ferramentas de análise, bem como destacar possíveis vieses e adversidades que podem surgir naturalmente durante o processo."
   ]
  },
  {
   "cell_type": "code",
   "execution_count": 19,
   "id": "4ffe304a",
   "metadata": {},
   "outputs": [
    {
     "data": {
      "text/plain": [
       "(9932, 10)"
      ]
     },
     "execution_count": 19,
     "metadata": {},
     "output_type": "execute_result"
    }
   ],
   "source": [
    "#Segunda cópia e aplicando shape para verificar quantidade de linhas e colunas\n",
    "df_copy_2 = df.copy()\n",
    "df_copy_2.shape"
   ]
  },
  {
   "cell_type": "markdown",
   "id": "a96bafce",
   "metadata": {},
   "source": [
    "Temos 9932 registros e já verificamos que há dados duplicados (pelo DF original)\n",
    "\n",
    "Agora vamos excluir todas as duplicatas:"
   ]
  },
  {
   "cell_type": "code",
   "execution_count": 20,
   "id": "ff6a651c",
   "metadata": {},
   "outputs": [
    {
     "data": {
      "text/plain": [
       "(9142, 10)"
      ]
     },
     "execution_count": 20,
     "metadata": {},
     "output_type": "execute_result"
    }
   ],
   "source": [
    "df_copy_2 = df_copy_2.drop_duplicates()\n",
    "df_copy_2.shape"
   ]
  },
  {
   "cell_type": "markdown",
   "id": "29a70bd0",
   "metadata": {},
   "source": [
    "Após a exclusão, temos 9142 linhas de registro.\n",
    "\n",
    "Veja outros exemplos gerais que poderiam ser aplicados:"
   ]
  },
  {
   "cell_type": "markdown",
   "id": "42859c78",
   "metadata": {},
   "source": [
    "**1. Remover duplicatas com base em colunas específicas:**\n",
    "```python\n",
    "import pandas as pd\n",
    "\n",
    "# Suponha que 'df' seja o seu DataFrame\n",
    "# Vamos remover as duplicatas com base nas colunas 'coluna1' e 'coluna2'\n",
    "df = df.drop_duplicates(subset=['coluna1', 'coluna2'])\n",
    "```\n",
    "\n",
    "Isso removerá as linhas duplicadas considerando apenas as colunas especificadas, mantendo a primeira ocorrência de cada combinação única.\n",
    "\n",
    "**2. Manter a última ocorrência das duplicatas:**\n",
    "```python\n",
    "\n",
    "# Suponha que 'df' seja o seu DataFrame\n",
    "df = df.drop_duplicates(keep='last')\n",
    "```\n",
    "\n",
    "Isso manterá a última ocorrência de cada conjunto de duplicatas.\n",
    "Para mais informações consulte:\n",
    "<a href=\"https://pandas.pydata.org/pandas-docs/stable/reference/api/pandas.DataFrame.duplicated.html\">Documentação Pandas - Duplicated</a>\n"
   ]
  },
  {
   "cell_type": "markdown",
   "id": "16c9b1e6",
   "metadata": {},
   "source": [
    "# 4 Exploração de categorias \n",
    "\n",
    "Nossa próxima parada é a exploração das colunas categóricas, que podem oferecer informações valiosas sobre os diferentes tipos de exercícios e categorias relacionadas ao condicionamento físico. Embora o autor não tenha fornecido descrições detalhadas, podemos deduzir o propósito de algumas colunas com base nos valores e no contexto. Por exemplo, a coluna \"exercise_name\" provavelmente contém os nomes dos exercícios realizados, enquanto a coluna \"category\" pode indicar as categorias gerais às quais esses exercícios pertencem, como \"cardio\", \"musculação\" ou outras.\n",
    "\n",
    "Vamos começar explorando os valores únicos nessas colunas categóricas para entender melhor a variedade de exercícios e categorias presentes em nosso conjunto de dados. Isso nos permitirá ter uma visão geral dos tipos de atividades registradas e ajudará a definir nossos objetivos analíticos. A partir daí, poderemos considerar como essas categorias afetam nossas análises futuras. Continuaremos nossa jornada de análise de dados e condicionamento físico com um entendimento mais profundo das categorias envolvidas."
   ]
  },
  {
   "cell_type": "markdown",
   "id": "e70e2e85",
   "metadata": {},
   "source": [
    "## 4.1 Identificação de colunas categóricas\n",
    "\n",
    "Mas, afinal, o que são colunas categóricas? São aquelas que representam categorias, rótulos ou classificações, em vez de valores numéricos. Essas colunas desempenham um papel essencial ao classificar e organizar os dados com base em atributos específicos.\n",
    "\n",
    "Como detetives de dados, vamos começar identificando quais colunas em nosso conjunto de informações se encaixam nessa categoria. Na tabela que temos em mãos, colunas como \"exercise_name\" e \"workout_name\" são indícios de que estamos lidando com categorias de exercícios.\n",
    "\n",
    "Portanto, com nossa lupa de detetive em mãos, embarcamos na busca pelas colunas categóricas e suas categorias únicas, desvendando assim mais segredos sobre a jornada de força e resistência registrada em nossa tabela de análise de condicionamento físico. Continue conosco, pois há mais descobertas a serem feitas."
   ]
  },
  {
   "cell_type": "markdown",
   "id": "b7ceb571",
   "metadata": {},
   "source": [
    "## 4.2 Explorando valores únicos nas colunas dos dados categóricos"
   ]
  },
  {
   "cell_type": "markdown",
   "id": "1c30380e",
   "metadata": {},
   "source": [
    "Com essa pista em mente, partimos para a segunda etapa: explorar os valores únicos. Ao utilizar o método df['coluna'].unique(), estamos montando um inventário das categorias específicas presentes nessas colunas. Isso nos permitirá compreender os diferentes tipos de exercícios registrados, como \"cardio,\" \"musculação\" e outros."
   ]
  },
  {
   "cell_type": "code",
   "execution_count": 21,
   "id": "62253e88",
   "metadata": {},
   "outputs": [
    {
     "data": {
      "text/plain": [
       "array(['Incline Bench Press (Barbell)', 'Weighted dips',\n",
       "       'Incline Bench Press', 'Squat (Barbell)', 'Leg press (hinge )',\n",
       "       'Good Morning (Barbell)', 'Squat', 'Leg press', 'Good Morning',\n",
       "       'Chin Up', 'Lat Pulldown ', 'Seated Cable Row (close Grip)',\n",
       "       'Rear delt fly', 'Lat Pulldown', 'Seated Row', 'Hammer Curl',\n",
       "       'Hammer Curl (Dumbbell )', 'Glute extension. ',\n",
       "       'Seated Military Press', 'Seated Shoulder  Press (Barbell)',\n",
       "       'Leg outward fly', 'Seated Military Press (Dumbbell)',\n",
       "       'Lateral Raise', 'Seated Shoulder Press (Dumbbell)',\n",
       "       'Lateral Raise (Dumbbells)', 'Bicep Curl (Barbell)', 'T-bar Row',\n",
       "       'Bicep Curl (barbell )', 'Incline Press (Dumbbell)',\n",
       "       'Tricep pushdown', 'Tricep Extension', 'Bent Over Row (Dumbbell)',\n",
       "       'Leg curl', 'Cycling', 'Military Press (Standing)',\n",
       "       'Shoulder Press (Standing)', 'Deadlift (Barbell)', 'Deadlift',\n",
       "       'Hammer back row wide 45 angle', 'Hammer lat pulldown',\n",
       "       'Rotator cuff work. ', 'Shrugs (dumbbell)', 'Hammer seated row',\n",
       "       'Hammer seated row (CLOSE GRIP)', 'Pull Up',\n",
       "       'Hammer shoulder press', 'Overhead Press (Dumbbell)',\n",
       "       'Overhead Press (Barbell)', 'Bench Press (Barbell)',\n",
       "       'Hammer Decline Chest Press', 'Front Squat (Barbell)',\n",
       "       'Lateral Raise (Dumbbell)', 'Leg Extension (Machine)',\n",
       "       'Landmine Press', 'Bicep Curl (Dumbbell)',\n",
       "       'Romanian Deadlift (Barbell)', 'Neutral Chin',\n",
       "       'Skullcrusher (Barbell)', 'Lat Pulldown (Cable)',\n",
       "       'Rope Never Ending ', 'Face pull', 'Front Raise (Dumbbell)',\n",
       "       'Deadlift - Trap Bar', 'Stairmaster', 'Hammer Row Stand 1armed',\n",
       "       'Sling Shot Bench', 'Sling Shot Incline', 'Hack Squat',\n",
       "       'Hammer Row - Wide Grip', 'Shrugs', 'Rack Pull - 1 Pin',\n",
       "       'Hammer High Row - 1 Arm', 'Rack Pull 2 Pin', 'kettlebell Swings',\n",
       "       'close grip Bench', 'Low Incline Dumbbell Bench', 'sumo deadlift',\n",
       "       'lying Skullcrusher', 'high bar squat', 'curl ez bar',\n",
       "       'Curl Dumbbell', 'Lat Pulldown Closegrip', 'Cable Fly'],\n",
       "      dtype=object)"
      ]
     },
     "execution_count": 21,
     "metadata": {},
     "output_type": "execute_result"
    }
   ],
   "source": [
    "df_copy['exercise_name'].unique()"
   ]
  },
  {
   "cell_type": "code",
   "execution_count": 22,
   "id": "2397aab8",
   "metadata": {},
   "outputs": [
    {
     "data": {
      "text/plain": [
       "array(['Chest', 'Squat 1', 'Back', 'Shoulder Day',\n",
       "       'Shoulders  - Heavy Day', 'Legs', 'Back Heavier Chins',\n",
       "       '2 - Back Heavy Chins', '1 Incline Day', '2 - Shoulders ',\n",
       "       '1 - Heavy Squats', '1 Heavy   Rows', '2 Legs-high Reps',\n",
       "       'Push - Shoulders / Bench', 'Legs - Heavy', 'Back - Heavier Chins',\n",
       "       'Push - Incline', 'Legs - 5x5 / Volume', 'Back - Chins.  5x6',\n",
       "       'Back - Light Chins, 8-10 Reps',\n",
       "       'Back - Pyramid.  5max, Decrease 5 Sets', 'Pulls ',\n",
       "       'Legs - Heavy #25', 'Push - Incline #28',\n",
       "       'Back - Pyramid.  5max, Decrease 5 Sets #22',\n",
       "       'Legs - 5x5 / Volume #22', 'Push - Shoulders / Bench #25',\n",
       "       'Squat Light #1', 'Back - Pyramid.  5max, Decrease 5 Sets #23',\n",
       "       'Push - Incline #29', 'Legs - Heavy #26',\n",
       "       'Back - Pyramid.  5max, Decrease 5 Sets #24',\n",
       "       'Push - Shoulders / Bench #26', 'Squat Light #2',\n",
       "       'Back- Heavy 3x8 Chins #1', 'Push - Incline #30',\n",
       "       'Legs - Heavy #27', 'Back - Light Chins, 8-10 Reps #20',\n",
       "       'Push - Shoulders / Bench #27', 'Legs - Heavy #28',\n",
       "       'Back - Pyramid.  5max, Decrease 5 Sets #25', 'Push - Incline #31',\n",
       "       'Back - Light Chins, 8-10 Reps #21', 'Squat Light #3',\n",
       "       'Push - Shoulders / Bench #28',\n",
       "       'Back - Light Chins, 8-10 Reps #22', 'Squat Light #4',\n",
       "       'Push - Incline #32', 'Back- Heavy 3x8 Chins #2',\n",
       "       'Legs - Heavy #29', 'Push - Shoulders / Bench #29',\n",
       "       'Back - Light Chins, 8-10 Reps #23', 'Squat Light #5',\n",
       "       'Push - Incline #33', 'Back- Heavy 3x8 Chins #3',\n",
       "       'Legs - Heavy #30', 'Push - Shoulders / Bench #30', 'Pulls  #6',\n",
       "       'Push - Incline #34', 'Squat Light #6', 'Back- Heavy 3x8 Chins #4',\n",
       "       'Push - Shoulders / Bench #31', 'Legs - Heavy #31',\n",
       "       'Back - Light Chins, 8-10 Reps #24', 'Push - Incline #35',\n",
       "       'Back- Heavy 3x8 Chins #5', 'Squat Light #7',\n",
       "       'Push - Shoulders / Bench #32', 'Back Easy #1', 'Legs - Heavy #32',\n",
       "       'Push - Incline #36', 'Back Day 1 #1', 'Squat Light #8',\n",
       "       'Push - Shoulders / Bench #33',\n",
       "       'Back - Pyramid.  5max, Decrease 5 Sets #26', 'Squat Light #10',\n",
       "       'Push - Incline #37', 'Back Day 1 #2', 'Legs - 5x5 / Volume #23',\n",
       "       'Push - Shoulders / Bench #34', 'Back- Heavy 3x8 Chins #6',\n",
       "       'Squat Light #11', 'Push - Incline #38', 'Back Day 1 #3',\n",
       "       'Squat Light #12', 'Push - Shoulders / Bench #35', 'Back Workout',\n",
       "       'Legs - Heavy #33', 'Push - Incline #39',\n",
       "       'Back- Heavy 3x8 Chins #7', 'Back With Deadlift',\n",
       "       'Push - Shoulders / Bench #36', 'Legs - Heavy #34',\n",
       "       'Back Day 1 #4', 'Push - Incline #40'], dtype=object)"
      ]
     },
     "execution_count": 22,
     "metadata": {},
     "output_type": "execute_result"
    }
   ],
   "source": [
    "df_copy['workout_name'].unique()"
   ]
  },
  {
   "cell_type": "markdown",
   "id": "93fcceb2",
   "metadata": {},
   "source": [
    "Explorando os valores únicos das colunas \"exercise_name\" e \"workout_name,\" obtivemos informações sobre a natureza dos exercícios realizados e a organização do programa de treinamento físico do autor.\n",
    "\n",
    "__Valores Únicos em \"exercise_name\"__:\n",
    "Os valores únicos em \"exercise_name\" revelam uma variedade de exercícios, desde levantamento de peso, como \"Incline Bench Press (Barbell)\" e \"Deadlift,\" até exercícios aeróbicos, como \"Cycling\" e exercícios específicos de musculação, como \"Bicep Curl (Dumbbell).\" Essa diversidade é essencial, pois indica que o autor se envolveu em vários tipos de atividades físicas, o que pode contribuir para um condicionamento físico equilibrado e abrangente.\n",
    "\n",
    "__Possíveis Aplicações__:\n",
    "\n",
    "- Análise de Desempenho : Com base na variedade de exercícios, é possível realizar uma análise de desempenho, acompanhando o progresso em exercícios específicos ao longo do tempo.\n",
    "- Recomendações de Treinamento : Os dados podem ser usados para gerar recomendações de treinamento personalizado com base nas preferências do autor e nos exercícios mais frequentemente praticados.\n",
    "- Entendimento de Preferências : A análise dos exercícios mais frequentes pode fornecer insights sobre as preferências do autor, o que é valioso para o planejamento de futuros programas de treinamento.\n",
    "\n",
    "__Valores Únicos em \"workout_name\"__:\n",
    "Os valores únicos em \"workout_name\" representam nomes associados a diferentes sessões de treinamento. Essas categorias podem indicar a segmentação do treinamento em dias específicos, como \"Chest,\" \"Back,\" e \"Legs,\" bem como detalhes sobre o tipo de treinamento, como \"Squat 1\" ou \"Shoulder Day.\"\n",
    "\n",
    "__Possíveis Aplicações__:\n",
    "\n",
    "- Organização do Treinamento : A análise dos valores únicos em \"workout_name\" revela a organização e segmentação das sessões de treinamento. Isso é útil para entender como o autor dividiu seu programa de treinamento em diferentes partes do corpo e tipos de exercícios.\n",
    "- Acompanhamento do Progresso : Ao vincular sessões de treinamento específicas a diferentes exercícios, é possível rastrear o progresso em exercícios-chave ao longo do tempo.\n",
    "- Personalização do Treinamento : A segmentação de treinamento em categorias permite uma personalização mais eficaz do programa de treinamento, adaptando-o às necessidades específicas do autor.\n",
    "\n",
    "Essas informações adicionais sobre os exercícios e as categorias de treinamento enriquecem nossa compreensão do conjunto de dados e fornecem oportunidades para análises mais detalhadas sobre o desempenho e as preferências do autor."
   ]
  },
  {
   "cell_type": "markdown",
   "id": "5b1867a0",
   "metadata": {},
   "source": [
    "## 4.3 Contagem de valores conforme categoria\n",
    "Mas nossa investigação não para por aí. A terceira fase envolve a contagem de valores. Usando o método df['coluna'].value_counts(), podemos decifrar a frequência de cada categoria específica. Isso nos mostrará quais tipos de exercícios são mais comuns em nosso conjunto de dados, uma informação crucial para entender as preferências e tendências de condicionamento físico ao longo do tempo."
   ]
  },
  {
   "cell_type": "code",
   "execution_count": 23,
   "id": "24eabb9b",
   "metadata": {},
   "outputs": [
    {
     "data": {
      "text/plain": [
       "exercise_name\n",
       "Squat (Barbell)                     1437\n",
       "Chin Up                             1217\n",
       "Incline Bench Press (Barbell)        779\n",
       "Seated Shoulder  Press (Barbell)     660\n",
       "Weighted dips                        627\n",
       "                                    ... \n",
       "Lat Pulldown (Cable)                   2\n",
       "Skullcrusher (Barbell)                 2\n",
       "lying Skullcrusher                     2\n",
       "Hammer Decline Chest Press             2\n",
       "Lat Pulldown Closegrip                 2\n",
       "Name: count, Length: 83, dtype: int64"
      ]
     },
     "execution_count": 23,
     "metadata": {},
     "output_type": "execute_result"
    }
   ],
   "source": [
    "df_copy['exercise_name'].value_counts()"
   ]
  },
  {
   "cell_type": "code",
   "execution_count": 24,
   "id": "e8d4d6eb",
   "metadata": {},
   "outputs": [
    {
     "data": {
      "text/plain": [
       "workout_name\n",
       "Back                                          2034\n",
       "Squat 1                                       1435\n",
       "Chest                                         1219\n",
       "Shoulder Day                                   890\n",
       "1 - Heavy Squats                               452\n",
       "                                              ... \n",
       "Push - Incline #33                               7\n",
       "Squat Light #1                                   7\n",
       "Legs - 5x5 / Volume #22                          7\n",
       "Legs - Heavy #25                                 7\n",
       "Back - Pyramid.  5max, Decrease 5 Sets #25       6\n",
       "Name: count, Length: 95, dtype: int64"
      ]
     },
     "execution_count": 24,
     "metadata": {},
     "output_type": "execute_result"
    }
   ],
   "source": [
    "df_copy['workout_name'].value_counts()"
   ]
  },
  {
   "cell_type": "markdown",
   "id": "270117b4",
   "metadata": {},
   "source": [
    "__Contagem de Valores em \"exercise_name\"__: A contagem de valores na coluna \"exercise_name\" revela a frequência com que cada exercício específico foi realizado pelo autor ao longo do tempo. Isso nos permite identificar os exercícios mais frequentes e entender as preferências de atividades físicas.\n",
    "\n",
    "__Possíveis Aplicações__:\n",
    "\n",
    "- Identificação de Exercícios Principais: Ao observar os exercícios mais frequentes, podemos identificar os exercícios principais em seu programa de treinamento, que podem ser fundamentais para seu condicionamento físico.\n",
    "- Monitoramento de Preferências: A contagem de valores ajuda a monitorar as preferências do autor e identificar se ele se concentra em exercícios específicos em detrimento de outros.\n",
    "- Ajuste do Programa de Treinamento: Compreender quais exercícios são mais frequentes permite ajustar o programa de treinamento para otimizar o progresso e atender às metas individuais.\n",
    "\n",
    "__Contagem de Valores em \"workout_name\"__: A contagem de valores na coluna \"workout_name\" mostra quais categorias de sessões de treinamento foram mais frequentes no conjunto de dados. Isso é útil para entender como o autor organizou suas sessões de treinamento ao longo do tempo.\n",
    "\n",
    "__Possíveis Aplicações__:\n",
    "\n",
    "- Organização do Programa de Treinamento: Identificando as categorias mais frequentes, é possível entender como o programa de treinamento foi organizado em diferentes sessões, como \"Chest,\" \"Back,\" e \"Legs.\"\n",
    "- Avaliação de Regularidade: A frequência das categorias pode indicar quais partes do corpo ou tipos de treinamento o autor enfatizou ou realizou com maior regularidade.\n",
    "- Adaptação do Treinamento: Com base na análise das categorias, é possível adaptar o programa de treinamento para atender a objetivos específicos ou equilibrar o treinamento em diferentes áreas do corpo."
   ]
  },
  {
   "cell_type": "markdown",
   "id": "1450366d",
   "metadata": {},
   "source": [
    "[Observação adicional - Exemplo](#5)"
   ]
  },
  {
   "cell_type": "markdown",
   "id": "507e855a",
   "metadata": {},
   "source": [
    "# 5 Gráficos iniciais\n",
    "\n",
    "Nesta etapa, vamos criar gráficos simples e diretos para ilustrar conceitos fundamentais de visualização de dados. O foco principal é demonstrar a aplicação de gráficos básicos que podem ser úteis para iniciantes em análise de dados.\n",
    "\n",
    "[uma abordagem prática para escolher o tipo de gráfico adequado aos diferentes tipos de dados](#6)"
   ]
  },
  {
   "cell_type": "markdown",
   "id": "0f4e7582",
   "metadata": {},
   "source": [
    "## 5.1 Histograma\n",
    "\n",
    "Os dados da coluna 'weight podem ser bastante extensos o que torna difícil entender a distribuição e identificar padrões simplesmente olhando para uma lista de números.\n",
    "\n",
    "É aí que o histograma entra em cena. Ele nos ajuda a transformar os números contidos na coluna em um gráfico fácil de compreender. No eixo horizontal do histograma, temos os intervalos de peso, chamados de \"bins,\" e no eixo vertical, temos a contagem de quantos valores de peso caem em cada intervalo. Essencialmente, um histograma nos mostra a frequência com que diferentes pesos são usados.\n",
    "\n",
    "Vamos agora criar o histograma com base nos dados da coluna \"weight\" e ajustar o código para que a visualização seja clara:"
   ]
  },
  {
   "cell_type": "code",
   "execution_count": 25,
   "id": "32ff3dbd",
   "metadata": {},
   "outputs": [
    {
     "data": {
      "image/png": "[encoded data removed]",
      "text/plain": [
       "<Figure size 800x600 with 1 Axes>"
      ]
     },
     "metadata": {},
     "output_type": "display_data"
    }
   ],
   "source": [
    "# Configurando o tamanho do gráfico\n",
    "plt.figure(figsize=(8, 6))\n",
    "\n",
    "# Criando o histograma\n",
    "plt.hist(df_copy['weight'], bins=30, color='skyblue', edgecolor='black')\n",
    "\n",
    "# Definindo rótulos e títulos\n",
    "plt.xlabel('Peso - libras')\n",
    "plt.ylabel('Contagem')\n",
    "plt.title('Distribuição de pesos usados nos exercícios')\n",
    "\n",
    "# Exibindo o histograma\n",
    "plt.show()\n"
   ]
  },
  {
   "cell_type": "markdown",
   "id": "dabdff4f",
   "metadata": {},
   "source": [
    "Logo no início do histograma, notamos uma alta concentração de registros em uma faixa que vai de 0 a cerca de 500 libras. Essa é a \"zona dos pesos moderados\". Aqui, encontramos a maioria dos exercícios. E adivinhe? O número de registros nesse intervalo ultrapassa 3000! Veja até onde a barra sobe na vertical. Parece que o autor da tabela levanta pesos mais leves ou moderados.\n",
    "\n",
    "Conforme nossos olhos seguem ao longo do gráfico, vemos um declínio acentuado nas contagens à medida que os pesos aumentam. Veja na linha horizontal que começa de 0 e vai até 3000, já em 500 temos um declínio acentuado na contagem. Isso significa que, à medida que os pesos ficam mais pesados, o autor não se aventura ou mesmo não pode erguê-los. \n",
    "\n",
    "No entanto, para os verdadeiros \"titãs da academia\", há uma surpresa. Se você olhar com atenção, encontrará alguns registros no final do gráfico que ultrapassam os 500 libras. Ué, mas onde? Tudo bem, o gráfico que criamos não mostra isso e seriam necessários alguns ajustes para visualizarmos isso. Vamos tentar.\n",
    "Primeiro vamos ver qual o valor máximo da coluna weight:"
   ]
  },
  {
   "cell_type": "code",
   "execution_count": 26,
   "id": "1707745e",
   "metadata": {},
   "outputs": [],
   "source": [
    "max_weight = df_copy['weight'].max()"
   ]
  },
  {
   "cell_type": "markdown",
   "id": "eb419acb",
   "metadata": {},
   "source": [
    "O valor máximo é 2956 libras, também pudemos verificar esse valor anteriormente quando aplicamos o método .describe() para todas as colunas - método esse que pode ser aplicado também para colunas individuais, como no caso de 'weight', mas para esse propósito mais simples utilizamos .max() \n",
    "\n",
    "Vamos ver quantas vezes esse valor apareceu em nossos dados: (não se preocupe se não souber como funcionam os códigos a seguir, estamos nos atentando à análise do histograma e expandindo um pouco o conhecimento)"
   ]
  },
  {
   "cell_type": "code",
   "execution_count": 27,
   "id": "8027c72c",
   "metadata": {},
   "outputs": [
    {
     "data": {
      "text/plain": [
       "1"
      ]
     },
     "execution_count": 27,
     "metadata": {},
     "output_type": "execute_result"
    }
   ],
   "source": [
    "# Filtrar exercícios com peso igual ao valor máximo\n",
    "max_weight_exercise = df_copy[df_copy['weight'] == max_weight]\n",
    "len(max_weight_exercise)"
   ]
  },
  {
   "cell_type": "markdown",
   "id": "3627022d",
   "metadata": {},
   "source": [
    "O valor máximo aparece apenas uma vez.\n",
    "Apenas por curiosidade e confirmação, vamos verificar qual foi o exercício em que o valor máximo apareceu:"
   ]
  },
  {
   "cell_type": "code",
   "execution_count": 28,
   "id": "282d6f69",
   "metadata": {},
   "outputs": [
    {
     "data": {
      "text/html": [
       "<div>\n",
       "<style scoped>\n",
       "    .dataframe tbody tr th:only-of-type {\n",
       "        vertical-align: middle;\n",
       "    }\n",
       "\n",
       "    .dataframe tbody tr th {\n",
       "        vertical-align: top;\n",
       "    }\n",
       "\n",
       "    .dataframe thead th {\n",
       "        text-align: right;\n",
       "    }\n",
       "</style>\n",
       "<table border=\"1\" class=\"dataframe\">\n",
       "  <thead>\n",
       "    <tr style=\"text-align: right;\">\n",
       "      <th></th>\n",
       "      <th>date</th>\n",
       "      <th>workout_name</th>\n",
       "      <th>exercise_name</th>\n",
       "      <th>set_order</th>\n",
       "      <th>weight</th>\n",
       "      <th>reps</th>\n",
       "      <th>distance</th>\n",
       "      <th>seconds</th>\n",
       "      <th>notes</th>\n",
       "      <th>workout_notes</th>\n",
       "    </tr>\n",
       "  </thead>\n",
       "  <tbody>\n",
       "    <tr>\n",
       "      <th>4813</th>\n",
       "      <td>2017-02-04 19:03:35</td>\n",
       "      <td>Squat 1</td>\n",
       "      <td>Squat (Barbell)</td>\n",
       "      <td>8</td>\n",
       "      <td>2956.0</td>\n",
       "      <td>6</td>\n",
       "      <td>0.0</td>\n",
       "      <td>0</td>\n",
       "      <td>NaN</td>\n",
       "      <td>NaN</td>\n",
       "    </tr>\n",
       "  </tbody>\n",
       "</table>\n",
       "</div>"
      ],
      "text/plain": [
       "                    date workout_name    exercise_name  set_order  weight  \\\n",
       "4813 2017-02-04 19:03:35      Squat 1  Squat (Barbell)          8  2956.0   \n",
       "\n",
       "      reps  distance  seconds notes workout_notes  \n",
       "4813     6       0.0        0   NaN           NaN  "
      ]
     },
     "execution_count": 28,
     "metadata": {},
     "output_type": "execute_result"
    }
   ],
   "source": [
    "max_weight_exercise"
   ]
  },
  {
   "cell_type": "markdown",
   "id": "ed8809fb",
   "metadata": {},
   "source": [
    "Podemos observar que foi um exercício chamado Squat (Barbell). Foi o oitavo exercício na ordem e foram feitas seis repetições dele.\n",
    "\n",
    "Agora vamos visualizar o histograma para essa contagem específica de peso."
   ]
  },
  {
   "cell_type": "code",
   "execution_count": 29,
   "id": "113f815f",
   "metadata": {},
   "outputs": [
    {
     "data": {
      "image/png": "[encoded data removed]",
      "text/plain": [
       "<Figure size 640x480 with 1 Axes>"
      ]
     },
     "metadata": {},
     "output_type": "display_data"
    }
   ],
   "source": [
    "# Criando um histograma com apenas um bin para mostrar o valor máximo\n",
    "plt.hist(max_weight_exercise['weight'], bins=1, edgecolor='black')\n",
    "\n",
    "plt.xlabel('Peso (libras)')\n",
    "plt.ylabel('Contagem')\n",
    "plt.title(f'Histograma do Peso Máximo ({max_weight} libras)')\n",
    "\n",
    "plt.show()"
   ]
  },
  {
   "cell_type": "markdown",
   "id": "80497ed3",
   "metadata": {},
   "source": [
    "Vê agora?\n",
    "O autor dessa tabela enfrentou pesos de até 2956.4 libras (repare o último valor do eixo horizontal), mas a contagem para esse peso é baixa, apenas 1.0 (repare o valor mais acima no eixo vertical); o que sugere que esse valor de peso é único na base de dados e ocorre apenas uma vez. Isso é consistente com o que esperaríamos, já que o valor máximo de peso (utilizando o método .max()), como vimos antes, é 2956.\n",
    "\n",
    "Em resumo, o histograma dos pesos é como um mapa que nos guia pelo universo dos exercícios. Ele nos revela como os pesos estão distribuídos, destacando os mais populares, os moderados e até os superpesados. É uma história numérica que nos ajuda a entender as preferências e até as capacidades do praticante que criou essa tabela de dados."
   ]
  },
  {
   "cell_type": "markdown",
   "id": "40baefe8",
   "metadata": {},
   "source": [
    "Agora, que tal olharmos mais uma vez os dados estatísticos iniciais da coluna 'weight' e criarmos outro histograma com base em outros critérios para que vejamos outros valores de forma mais clara? "
   ]
  },
  {
   "cell_type": "code",
   "execution_count": 30,
   "id": "0f34c0eb",
   "metadata": {},
   "outputs": [
    {
     "data": {
      "text/plain": [
       "count    9932.000000\n",
       "mean      171.967540\n",
       "std       117.993654\n",
       "min         0.000000\n",
       "25%        85.000000\n",
       "50%       165.000000\n",
       "75%       237.500000\n",
       "max      2956.000000\n",
       "Name: weight, dtype: float64"
      ]
     },
     "execution_count": 30,
     "metadata": {},
     "output_type": "execute_result"
    }
   ],
   "source": [
    "df_copy['weight'].describe()"
   ]
  },
  {
   "cell_type": "markdown",
   "id": "8dd6a27c",
   "metadata": {},
   "source": [
    "Vamos visualizar os valores que vão do primeiro quartil (25%) até o segundo quartil (50%). O que esses dados nos dizem é o seguinte: \n",
    "- 25% dos pesos são menores ou iguais a 85 libras (primeiro quartil).\n",
    "- 50% dos pesos são menores ou iguais a 165 libras (mediana, que é o segundo quartil)."
   ]
  },
  {
   "cell_type": "markdown",
   "id": "ac144c69",
   "metadata": {},
   "source": [
    "Então podemos visualizar isso num histograma, lembre-se que esse tipo de gráfico nos permite visualizar a distribuição e frequência dos valores de uma determinada variável de forma intuitiva e fácil de compreender. Em vez de simplesmente observar números em uma tabela, um histograma transforma esses números em um gráfico que destaca padrões, tendências e insights, tornando a análise de dados mais acessível e informativa."
   ]
  },
  {
   "cell_type": "markdown",
   "id": "94b1e748",
   "metadata": {},
   "source": [
    "Primeiro vamos selecionar os valores que correspondem ao primeiro e segundo quartis. Vamos selecionar todos os valores nessa faixa."
   ]
  },
  {
   "cell_type": "code",
   "execution_count": 31,
   "id": "686201a4",
   "metadata": {},
   "outputs": [],
   "source": [
    "fst_scnd_quartile = df_copy[df_copy['weight'] <= 165]"
   ]
  },
  {
   "cell_type": "code",
   "execution_count": 32,
   "id": "c981378f",
   "metadata": {},
   "outputs": [
    {
     "data": {
      "image/png": "[encoded data removed]",
      "text/plain": [
       "<Figure size 640x480 with 1 Axes>"
      ]
     },
     "metadata": {},
     "output_type": "display_data"
    }
   ],
   "source": [
    "# Criando um histograma \n",
    "plt.hist(fst_scnd_quartile['weight'], bins=30, edgecolor='black')\n",
    "\n",
    "plt.xlabel('Peso (libras)')\n",
    "plt.ylabel('Contagem')\n",
    "plt.title('Histograma dos Pesos \"weight\" no Primeiro e Segundo Quartis')\n",
    "\n",
    "plt.show()"
   ]
  },
  {
   "cell_type": "markdown",
   "id": "4db587d9",
   "metadata": {},
   "source": [
    "Lembre-se que aqui estamos fazendo a análise de um recorte da coluna 'weight', então não confunda os quartis. Por que dizemos isso?\n",
    "\n",
    "Bem, se você considerar apenas esse gráfico e observar o eixo horizontal, perceberá que o valor 85 está entre 75 e 85, obviamente. Então se abordar esse histograma isoladamente, pode acabar pensando o que o valor está bem no meio: \"Ué! mas quando eu fiz as análises para saber o primeiro e segundo quartis da tabela - fst_scnd_quartile = df_copy[df_copy['weight'] <= 165] -, eu encontrei os seguintes valores:\"\n",
    "\n",
    "25%        85.000000\n",
    "50%       165.000000\n",
    "75%       237.500000\n",
    "max      2956.000000\n",
    "\n",
    "Aí, da saída acima, você concluiu que os pesos com valor menor ou igual a 85 libras correspondem a 25% de todos os pesos e que os pesos com valor menor ou igual a 165 libras correspondem a 50% de todos os pesos, mas agora quando olha para o histograma criado, parece que os pesos com 85 libras ou menos estão quase \"no meio\" do eixo horizontal. Então quer dizer que encontramos um erro e que 50% dos pesos têm 85 libras ou menos? \n",
    "Oras, afinal, se estamos olhando para o gráfico e os pesos de 0 a 85 vão até quase o meio do eixo, quer dizer que esses pesos correspondem a 50% dos pesos. \n",
    "Bem, depende para quem estamos olhando. Oras, para o histograma acima, a análise seria correta, mas para o total de pesos, não!\n",
    "\n",
    "Peraí, o que devo considerar?\n",
    "Primeiramente, tudo depende da análise que estamos realizando, dos objetivos...\n",
    "\n",
    "Então veja, não há erros. Lembre-se que fizemos um recorte da tabela original, ou seja, \"retiramos, escolhemos, recortamos\" parte dos pesos para criação do histograma de agora, e estamos lidando com pesos que vão de 0 libras até 85 libras (25% dos pesos da tabela original) e também pesos que vão de 86 libras até 165 libras (50% dos pesos da tabela original), o que significa que quando criamos o histograma acima, estamos observando os 50% da tabela original. Sim, todo esse gráfico é a correspondência de 50% da tabela original. \n",
    "\n",
    "Então se você está agora analisando apenas esse gráfico, seria correto dizer que 50% dos pesos entre 0 e 165 libras têm 85 libras ou menos. Entende agora? Mas para o gráfico histograma gerado a partir da tabela original com todos os valores de pesos isso estaria incorreto afinal a tabela original têm pesos que ultrapassam 165 libras e devem ser considerados na análise final.\n",
    "\n",
    "Cuidado para não fazer afirmações errôneas. A atenção à manipulação dos dados e como selecionamos suas partes é fundamental e essencial para uma abordagem que apresente conclusões corretas."
   ]
  },
  {
   "cell_type": "markdown",
   "id": "a266df6d",
   "metadata": {},
   "source": [
    "## 5.2 Gráfico de barras"
   ]
  },
  {
   "cell_type": "markdown",
   "id": "cb0e855c",
   "metadata": {},
   "source": [
    "Vamos agora lidar com a coluna workout_name e visualizar seus dados com um gráfico de barras. "
   ]
  },
  {
   "cell_type": "code",
   "execution_count": 33,
   "id": "9cd3d5c4",
   "metadata": {},
   "outputs": [
    {
     "data": {
      "image/png": "[encoded data removed]",
      "text/plain": [
       "<Figure size 1000x600 with 1 Axes>"
      ]
     },
     "metadata": {},
     "output_type": "display_data"
    }
   ],
   "source": [
    "# Configurando o tamanho do gráfico\n",
    "plt.figure(figsize=(10, 6))\n",
    "\n",
    "# Contagem de treinos por categoria (workout_name)\n",
    "workout_counts = df_copy['workout_name'].value_counts()\n",
    "\n",
    "# Criando o gráfico de barras\n",
    "workout_counts.plot(kind='bar', color='skyblue', edgecolor='black')\n",
    "\n",
    "# Definindo rótulos e título\n",
    "plt.xlabel('Categoria de Treino')\n",
    "plt.ylabel('Contagem')\n",
    "plt.title('Contagem de Treinos por Categoria')\n",
    "\n",
    "# Girar rótulos do eixo x para facilitar a leitura\n",
    "plt.xticks(rotation=90)\n",
    "\n",
    "# Exibindo o gráfico\n",
    "plt.show()"
   ]
  },
  {
   "cell_type": "markdown",
   "id": "e7ebfb15",
   "metadata": {},
   "source": [
    "Alguma coisa não ficou muito nítida, não é mesmo? Bem, a questão aqui é que há muitos dados para essa coluna. Lembra-se quando utilizamos unique para visualizar os valores únicos dessa coluna e pudemos visualizar uma coleção com todos os valores únicos de workout_name? Veja:"
   ]
  },
  {
   "cell_type": "code",
   "execution_count": 34,
   "id": "e2e4f014",
   "metadata": {},
   "outputs": [
    {
     "data": {
      "text/plain": [
       "array(['Chest', 'Squat 1', 'Back', 'Shoulder Day',\n",
       "       'Shoulders  - Heavy Day', 'Legs', 'Back Heavier Chins',\n",
       "       '2 - Back Heavy Chins', '1 Incline Day', '2 - Shoulders ',\n",
       "       '1 - Heavy Squats', '1 Heavy   Rows', '2 Legs-high Reps',\n",
       "       'Push - Shoulders / Bench', 'Legs - Heavy', 'Back - Heavier Chins',\n",
       "       'Push - Incline', 'Legs - 5x5 / Volume', 'Back - Chins.  5x6',\n",
       "       'Back - Light Chins, 8-10 Reps',\n",
       "       'Back - Pyramid.  5max, Decrease 5 Sets', 'Pulls ',\n",
       "       'Legs - Heavy #25', 'Push - Incline #28',\n",
       "       'Back - Pyramid.  5max, Decrease 5 Sets #22',\n",
       "       'Legs - 5x5 / Volume #22', 'Push - Shoulders / Bench #25',\n",
       "       'Squat Light #1', 'Back - Pyramid.  5max, Decrease 5 Sets #23',\n",
       "       'Push - Incline #29', 'Legs - Heavy #26',\n",
       "       'Back - Pyramid.  5max, Decrease 5 Sets #24',\n",
       "       'Push - Shoulders / Bench #26', 'Squat Light #2',\n",
       "       'Back- Heavy 3x8 Chins #1', 'Push - Incline #30',\n",
       "       'Legs - Heavy #27', 'Back - Light Chins, 8-10 Reps #20',\n",
       "       'Push - Shoulders / Bench #27', 'Legs - Heavy #28',\n",
       "       'Back - Pyramid.  5max, Decrease 5 Sets #25', 'Push - Incline #31',\n",
       "       'Back - Light Chins, 8-10 Reps #21', 'Squat Light #3',\n",
       "       'Push - Shoulders / Bench #28',\n",
       "       'Back - Light Chins, 8-10 Reps #22', 'Squat Light #4',\n",
       "       'Push - Incline #32', 'Back- Heavy 3x8 Chins #2',\n",
       "       'Legs - Heavy #29', 'Push - Shoulders / Bench #29',\n",
       "       'Back - Light Chins, 8-10 Reps #23', 'Squat Light #5',\n",
       "       'Push - Incline #33', 'Back- Heavy 3x8 Chins #3',\n",
       "       'Legs - Heavy #30', 'Push - Shoulders / Bench #30', 'Pulls  #6',\n",
       "       'Push - Incline #34', 'Squat Light #6', 'Back- Heavy 3x8 Chins #4',\n",
       "       'Push - Shoulders / Bench #31', 'Legs - Heavy #31',\n",
       "       'Back - Light Chins, 8-10 Reps #24', 'Push - Incline #35',\n",
       "       'Back- Heavy 3x8 Chins #5', 'Squat Light #7',\n",
       "       'Push - Shoulders / Bench #32', 'Back Easy #1', 'Legs - Heavy #32',\n",
       "       'Push - Incline #36', 'Back Day 1 #1', 'Squat Light #8',\n",
       "       'Push - Shoulders / Bench #33',\n",
       "       'Back - Pyramid.  5max, Decrease 5 Sets #26', 'Squat Light #10',\n",
       "       'Push - Incline #37', 'Back Day 1 #2', 'Legs - 5x5 / Volume #23',\n",
       "       'Push - Shoulders / Bench #34', 'Back- Heavy 3x8 Chins #6',\n",
       "       'Squat Light #11', 'Push - Incline #38', 'Back Day 1 #3',\n",
       "       'Squat Light #12', 'Push - Shoulders / Bench #35', 'Back Workout',\n",
       "       'Legs - Heavy #33', 'Push - Incline #39',\n",
       "       'Back- Heavy 3x8 Chins #7', 'Back With Deadlift',\n",
       "       'Push - Shoulders / Bench #36', 'Legs - Heavy #34',\n",
       "       'Back Day 1 #4', 'Push - Incline #40'], dtype=object)"
      ]
     },
     "execution_count": 34,
     "metadata": {},
     "output_type": "execute_result"
    }
   ],
   "source": [
    "df_copy['workout_name'].unique()"
   ]
  },
  {
   "cell_type": "markdown",
   "id": "ec2f9075",
   "metadata": {},
   "source": [
    "Há muitos valores não é mesmo? Vamos utilizar o método len() para visualizar quantos são:"
   ]
  },
  {
   "cell_type": "code",
   "execution_count": 35,
   "id": "dcef318d",
   "metadata": {},
   "outputs": [
    {
     "data": {
      "text/plain": [
       "95"
      ]
     },
     "execution_count": 35,
     "metadata": {},
     "output_type": "execute_result"
    }
   ],
   "source": [
    "len(df_copy['workout_name'].unique())"
   ]
  },
  {
   "cell_type": "markdown",
   "id": "5f49d0e0",
   "metadata": {},
   "source": [
    "Bem, temos 95 valores únicos para essa coluna. Isso é muita coisa para ser visualizada de uma vez, e também não é algo prático a se realizar. O que isso nos revela? Oras, mais uma vez nos deparamos com um cenário em que precisamos saber qual o tipo de tratamento estamos realizando com os dados, e isso é obtido quando temos em mente o problema que estamos analisando ou tentando resolver com os dados. Então o que fazer?\n",
    "\n",
    "Para esse trabalho vamos apenas aplicar uma abordagem mais prática a respeito dessa coluna e mostrar uma possível aplicação para visualização do gráfico de barras."
   ]
  },
  {
   "cell_type": "markdown",
   "id": "f65f0d2c",
   "metadata": {},
   "source": [
    "### Selecionando valores da coluna workout_name\n",
    "[Leia esse tema antes de continuar](#7)\n",
    "\n",
    "\n",
    "Primeiramente vamos selecionar alguns dados que estão na coluna. Digamos que estejamos interessados em saber a contagem para os treinos de peito, costas, ombros e agachamentos. Selecionamos então os treinos com os quais queremos lidar e em seguida utilizamos o método count para fazermos a contagem de quantas vezes os treinos selecionados aparecem em workout_name."
   ]
  },
  {
   "cell_type": "code",
   "execution_count": 36,
   "id": "c6d1a6c6",
   "metadata": {},
   "outputs": [],
   "source": [
    "# Filtrar as linhas com as categorias desejadas\n",
    "selected_workouts = df_copy[df_copy['workout_name'].isin(['Chest', 'Squat 1', 'Back', 'Shoulder Day'])]\n",
    "\n",
    "# Contando os valores para os exercícios selecionados\n",
    "selected_counts_workouts =  selected_workouts['workout_name'].value_counts()"
   ]
  },
  {
   "cell_type": "code",
   "execution_count": 37,
   "id": "c6c7433c",
   "metadata": {},
   "outputs": [
    {
     "data": {
      "image/png": "[encoded data removed]",
      "text/plain": [
       "<Figure size 1000x600 with 1 Axes>"
      ]
     },
     "metadata": {},
     "output_type": "display_data"
    }
   ],
   "source": [
    "# Configurando o tamanho do gráfico\n",
    "plt.figure(figsize=(10, 6))\n",
    "\n",
    "# Criando o gráfico de barras\n",
    "selected_counts_workouts.plot(kind='bar', color='skyblue', edgecolor='black')\n",
    "\n",
    "# Definindo rótulos e título\n",
    "plt.xlabel('Categoria de Treino')\n",
    "plt.ylabel('Contagem')\n",
    "plt.title('Contagem de Treinos por Categoria')\n",
    "\n",
    "# Girar rótulos do eixo x para facilitar a leitura\n",
    "plt.xticks(rotation=90)\n",
    "\n",
    "# Exibindo o gráfico\n",
    "plt.show()"
   ]
  },
  {
   "cell_type": "markdown",
   "id": "68868b6d",
   "metadata": {},
   "source": [
    "Agora fica mais fácil visualizar a contagem para esses treinos específicos a fim de fazermos análises mais precisas. Lembre-se que o objetivo de uma análise de determinados dados é definido ao início do trabalho, antes de qualquer código, gráfico, etc. Nesse trabalho estamos apenas lidando com alguns casos práticos para aprendizado em utilização de algumas possibilidades no Pandas. Se deseja saber mais a respeito de problemáticas a serem resolvidas utilizando análise de dados bem como identificar essas problemáticas, procure trabalhos que abordem temas relacionados à metodologia da ciência de dados."
   ]
  },
  {
   "cell_type": "markdown",
   "id": "c114cc7b",
   "metadata": {},
   "source": [
    "## 5.3 Box Plot"
   ]
  },
  {
   "cell_type": "markdown",
   "id": "f685e503",
   "metadata": {},
   "source": [
    "Nesta seção, exploraremos a criação de box plots, uma ferramenta valiosa para compreender a distribuição das repetições nos exercícios. O box plot nos oferece insights importantes, como a mediana (representada pela linha no centro do retângulo), os quartis (bordas do retângulo), a identificação de valores atípicos (pontos fora do retângulo) e a variação dos dados entre os quartis.\n",
    "\n",
    "Antes de prosseguirmos, realizamoremos uma análise descritiva inicial da coluna \"reps\". Os dados resumidos destacam estatísticas-chave, como a contagem de entradas, a média, o desvio padrão e os quartis (25%, 50%, 75%). Após isso, criaremos um box plot e o analisaremos em conjunto com as informações fornecidas."
   ]
  },
  {
   "cell_type": "code",
   "execution_count": 38,
   "id": "98b81f4c",
   "metadata": {},
   "outputs": [
    {
     "data": {
      "text/plain": [
       "count    9932.000000\n",
       "mean        8.688884\n",
       "std         3.092516\n",
       "min         0.000000\n",
       "25%         6.000000\n",
       "50%         8.000000\n",
       "75%        10.000000\n",
       "max        60.000000\n",
       "Name: reps, dtype: float64"
      ]
     },
     "execution_count": 38,
     "metadata": {},
     "output_type": "execute_result"
    }
   ],
   "source": [
    "df_copy['reps'].describe()"
   ]
  },
  {
   "cell_type": "markdown",
   "id": "034570fe",
   "metadata": {},
   "source": [
    "E antes que façamos qualquer análise, vamos criar um box plot e analisá-lo junto às informações que obtivemos acima:"
   ]
  },
  {
   "cell_type": "code",
   "execution_count": 39,
   "id": "c9e84d5a",
   "metadata": {},
   "outputs": [
    {
     "data": {
      "image/png": "[encoded data removed]",
      "text/plain": [
       "<Figure size 800x600 with 1 Axes>"
      ]
     },
     "metadata": {},
     "output_type": "display_data"
    }
   ],
   "source": [
    "# Criando um box plot para a coluna \"reps\"\n",
    "plt.figure(figsize=(8, 6))\n",
    "plt.boxplot(df_copy['reps'], vert=False, widths=0.7, patch_artist=True, boxprops=dict(facecolor='skyblue'))\n",
    "plt.xlabel('Repetições')\n",
    "plt.title('Distribuição de Repetições nos Exercícios')\n",
    "plt.yticks([]) \n",
    "plt.grid(axis='x', linestyle='--', alpha=0.6)\n",
    "\n",
    "# Exibindo o gráfico\n",
    "plt.show()\n"
   ]
  },
  {
   "cell_type": "markdown",
   "id": "a0128f06",
   "metadata": {},
   "source": [
    "O eixo vertical de um box plot (gráfico de caixa) representa os valores da variável que está sendo analisada ( Os valores da coluna reps). \n",
    "\n",
    "A linha vermelha no meio da caixa azul (retângulo) representa a mediana dos valores, que é o ponto médio dos dados (50%) quando eles são organizados em ordem crescente. Quando retornamos ao describe() que realizamos inicialmente para a coluna reps, podemos perceber que o segundo quartil tem o valor 8. Agora observe no box plot, a linha vermelha aproximando-se do valor 8 no eixo horizontal.  \n",
    "\n",
    "A caixa em si representa o intervalo interquartil (IQR), que abrange os valores entre o primeiro quartil (Q1 - 25%) e o terceiro quartil (Q3 - 75%). O IQR mostra a variação entre os valores centrais dos dados. Veja que em describe() os valores para esses quartis variam entre 6 e 10 repetições. Ao examinarmos o box plot, podemos constatar o mesmo. A linha mais à direita que forma o retângulo azul está bem em cima do que corresponde ao valor 10 no eixo x, enquanto a linha mais à esquerda do retângulo está próxima do valor 6.\n",
    "\n",
    "As \"antenas\" que se estendem para a esquerda e para direita a partir do retângulo azul(conhecidas como \"bigodes\") indicam a faixa dos valores não considerados outliers. Valores que caem fora dessas extremidades são frequentemente mostrados como pontos ou asteriscos e são considerados valores atípicos.\n",
    "\n",
    "O ponto que fica além do bigode superior é o valor máximo dentro do limite superior, ou seja, o valor máximo dentro da faixa considerada normal. Os pontos que aparecem após esse ponto, na direção do bigode, são considerados valores atípicos (outliers). Esses valores estão fora da faixa considerada normal e são potenciais exceções na distribuição dos dados. Portanto, esses pontos após o bigode podem ser identificados como outliers e merecem atenção especial na análise de dados, pois podem indicar discrepâncias ou eventos incomuns."
   ]
  },
  {
   "cell_type": "markdown",
   "id": "d88720bc",
   "metadata": {},
   "source": [
    "### Alguns aspectos sobre \"os pontos fora da curva\""
   ]
  },
  {
   "cell_type": "markdown",
   "id": "138555d3",
   "metadata": {},
   "source": [
    "Os outliers, representados como pontos fora dos 'bigodes' do box plot, nos despertam curiosidade e questionamentos. Por exemplo, um ponto que atinge 60 repetições nos exercícios (o último ponto mostrado em nosso box plot) levanta a questão: Qual teria sido o exercício realizado com essa faixa de repetições? Será que houve um registro incorreto ou extremamente atípico? Além disso, podemos nos perguntar se esses valores extremos têm alguma explicação, como um exercício especial ou circunstâncias específicas. \n",
    "\n",
    "A identificação e compreensão dos outliers são etapas essenciais na análise de dados. Esses \"pontos fora da curva\" nos desafiam a explorar além do comum e questionar o que pode estar por trás de valores extremos num conjunto de dados. Ao investigar a presença de outliers, somos instigados a refletir sobre a qualidade dos dados, a possibilidade de erros de registro e as peculiaridades que podem explicar esses casos atípicos. Reflexões como essa, por sua vez, nos convidam a aprofundar nossa análise e a buscar insights mais precisos e completos."
   ]
  },
  {
   "cell_type": "markdown",
   "id": "e6c45fbc",
   "metadata": {},
   "source": [
    "# 5.4 Gráfico de séries temporais\n",
    "\n",
    "[Aqui estão algumas possibilidades de aplicação desse tipo de gráfico considerando o conjunto de dados com que estamos lidando](#8)"
   ]
  },
  {
   "cell_type": "markdown",
   "id": "fadf1719",
   "metadata": {},
   "source": [
    "Nesta seção, exploraremos a criação de gráficos de série temporal, uma ferramenta fundamental para visualizar dados que variam ao longo do tempo. O gráfico de série temporal permite observar padrões, tendências e variações em um conjunto de dados ao longo de intervalos temporais específicos.\n",
    "\n",
    "No contexto deste trabalho, onde nosso principal objetivo é fornecer exemplos práticos para fins educativos, utilizaremos a coluna 'date' para criar um gráfico de série temporal. Não estamos direcionando a análise a um objetivo específico, mas sim explorando uma aplicação comum para o entendimento de séries temporais.\n",
    "\n",
    "Para demonstrar essa técnica, usaremos as datas registradas na coluna 'date' de nossos dados.\n",
    "Essa coluna representa as datas e horas em que os treinos ou exercícios foram registrados ao longo do tempo.\n",
    "\n",
    "No contexto desse projeto, não temos uma pergunta de pesquisa específica a ser respondida, mas estamos abrindo portas para a exploração e a compreensão das tendências nesses dados.\n",
    "\n",
    "\n",
    "\n"
   ]
  },
  {
   "cell_type": "markdown",
   "id": "93fef087",
   "metadata": {},
   "source": [
    "Vamos criar um gráfico de série temporal que represente a contagem de treinos registrados ao longo do tempo. Isso nos permitirá visualizar como a frequência de treinos varia ao longo dos anos e identificar tendências temporais."
   ]
  },
  {
   "cell_type": "code",
   "execution_count": 40,
   "id": "73ce69ba",
   "metadata": {},
   "outputs": [
    {
     "data": {
      "image/png": "[encoded data removed]",
      "text/plain": [
       "<Figure size 1000x600 with 1 Axes>"
      ]
     },
     "metadata": {},
     "output_type": "display_data"
    }
   ],
   "source": [
    "# Configurar o tamanho do gráfico\n",
    "plt.figure(figsize=(10, 6))\n",
    "\n",
    "# Group the data by year and count the number of recorded workouts for each year\n",
    "workouts_per_year = df_copy['date'].dt.year.value_counts().sort_index()\n",
    "'''\n",
    "df_copy['date'].dt.year extrai o ano de cada \n",
    "data na coluna date. Isso transforma as datas \n",
    "completas em apenas valores numéricos representando \n",
    "o ano em que cada treino/exercício foi registrado.\n",
    "\n",
    ".value_counts() conta a quantidade de ocorrências de \n",
    "cada ano na série resultante do passo anterior. \n",
    "Isso cria um objeto que mostra quantas vezes cada ano aparece \n",
    "nos dados.\n",
    "\n",
    ".sort_index() classifica os resultados em ordem crescente \n",
    "com base no ano. Isso garante que os anos sejam apresentados \n",
    "em ordem cronológica na série temporal.\n",
    "'''\n",
    "# Create the time series plot\n",
    "plt.plot(workouts_per_year.index, workouts_per_year.values, color='skyblue')\n",
    "\n",
    "# Set labels and title\n",
    "plt.xlabel('Ano')\n",
    "plt.ylabel('Quantidade de treinos registrados')\n",
    "plt.title('Série temporal de treinos registrados por ano')\n",
    "\n",
    "# Display the plot\n",
    "plt.grid(axis='y', linestyle='--', alpha=0.6)\n",
    "plt.show()\n",
    "\n"
   ]
  },
  {
   "cell_type": "markdown",
   "id": "e3557a5c",
   "metadata": {},
   "source": [
    "No gráfico de séries temporais, cada data corresponde a um treino registrado. Você deve estar se perguntando como determinamos a quantidade de treinos com base nas datas, certo? É simples: cada data representa um dia em que um treino foi registrado.\n",
    "\n",
    "Agora, observe o eixo vertical (Y), que abrange os anos de 2015 a 2018, conforme mencionado no apêndice (indicando os três anos de dados).\n",
    "\n",
    "Vamos explorar as tendências. Inicialmente, houve um aumento constante na quantidade de treinos registrados até os primeiros meses de 2016. Em seguida, ocorreu uma diminuição até chegarmos ao ano de  2017, seguida por uma ligeira \"recuperação\" até 2018."
   ]
  },
  {
   "cell_type": "code",
   "execution_count": 41,
   "id": "e13be9e2",
   "metadata": {},
   "outputs": [
    {
     "data": {
      "text/plain": [
       "date\n",
       "2015    1080\n",
       "2016    3511\n",
       "2017    2552\n",
       "2018    2789\n",
       "Name: count, dtype: int64"
      ]
     },
     "execution_count": 41,
     "metadata": {},
     "output_type": "execute_result"
    }
   ],
   "source": [
    "df_copy['date'].dt.year.value_counts().sort_index()"
   ]
  },
  {
   "cell_type": "markdown",
   "id": "800ab60b",
   "metadata": {},
   "source": [
    "Você percebe alguma inconsistência aqui [O autor nos diz](#1_1) que os dados são relativos a 3 anos de treino, mas quando analisamos os números no gráfico de série temporal, temos muito mais do que 3 anos, afinal cada registro corresponde a um treino e temos 9932 registros no total. \n",
    "\n",
    "Veja novamente que os dados iniciais nos mostram a contagem de registros por ano:\n",
    "\n",
    "- date  -  contagem\n",
    "- 2015  -  1080\n",
    "- 2016  -  3511\n",
    "- 2017  -  2552\n",
    "- 2018  -  2789\n",
    "- Name: count, dtype: int64\n",
    "\n",
    "Aqui, você pode estar se questionando, por que esses números se traduzem em mais de 9.000 dias.\n",
    "\n",
    "A resposta a essa aparente contradição entre a quantidade de registros e a quantidade de anos de treino está nas duplicatas. No conjunto de dados, encontramos que muitos treinos estavam registrados mais de uma vez (o próprio autor dos dados nos esclarece isso), levando ao aumento do número de \"dias\" que parecem estar no gráfico.\n",
    "\n",
    "Mas qual a relevância em saber disso? Bem, essa situação destaca a importância da qualidade dos dados na análise de séries temporais. Em nossa abordagem educativa, vamos explorar as possíveis ações que poderiam ser tomadas para abordar essa questão. \n",
    "\n",
    "Uma abordagem comum seria realizar a limpeza de dados, removendo duplicatas, como já discutido anteriormente. Ao remover duplicatas, obtemos uma representação mais precisa dos dados. No contexto de um projeto de análise de séries temporais, isso nos permitiria ter mais clareza sobre o período de tempo real que os dados abrangem.\n",
    "\n",
    "Além da remoção de duplicatas, outra ação relevante é a verificação e possível correção de inconsistências nos dados, como datas fora do período esperado de três anos. Isso requer uma análise mais profunda dos dados para identificar e tratar possíveis discrepâncias. Ao fazer isso, podemos garantir que os dados reflitam com precisão o período de três anos de treino.\n",
    "\n",
    "Essas ações visam aprimorar a qualidade dos dados e, como consequência, melhorar a confiabilidade das análises subsequentes. No entanto, é importante destacar que, para este projeto educativo, não realizaremos essas ações, mas estamos destacando sua importância no contexto da análise de séries temporais.\n",
    "\n",
    "Lembre-se sempre que ao compreendermos a importância da limpeza de dados e como ela pode impactar a análise, estaremos prontos para etapas subsequentes em nossa exploração das tendências ao longo do tempo, bem como para realizar outras possíveis análises.\n"
   ]
  },
  {
   "cell_type": "markdown",
   "id": "18cfe5a6",
   "metadata": {},
   "source": [
    "## 5.5 Gráfico de correlação\n",
    "\n",
    "Nesta seção, exploraremos a criação de um gráfico de correlação, uma ferramenta valiosa para entender as relações entre diferentes variáveis em um conjunto de dados. O gráfico de correlação nos permite visualizar quais variáveis têm associações positivas, negativas ou neutras entre si.\n",
    "\n",
    "No contexto deste trabalho, nosso objetivo é fornecer exemplos práticos para fins educativos. Usaremos a biblioteca Pandas e Matplotlib para criar um gráfico de correlação simples. A partir desse gráfico, podemos identificar como as variáveis do nosso conjunto de dados se relacionam entre si.\n",
    "\n",
    "Vamos agora criar o gráfico de correlação para nossa análise exploratória. Mais uma vez, enfatizamos que o foco desta seção é ilustrar a ferramenta de visualização da correlação e não necessariamente tirar conclusões específicas sobre as relações entre as variáveis. Para análises mais aprofundadas, considerando causalidade e outros fatores, seriam necessários métodos estatísticos mais elaborados."
   ]
  },
  {
   "cell_type": "code",
   "execution_count": 42,
   "id": "3a90a2f8",
   "metadata": {},
   "outputs": [
    {
     "data": {
      "image/png": "[encoded data removed]",
      "text/plain": [
       "<Figure size 1000x800 with 2 Axes>"
      ]
     },
     "metadata": {},
     "output_type": "display_data"
    }
   ],
   "source": [
    "# Selecionar apenas colunas numéricas\n",
    "numeric_columns = df_copy.select_dtypes(include=[int, float])\n",
    "\n",
    "# Calcular a matriz de correlação\n",
    "correlation_matrix = numeric_columns.corr()\n",
    "\n",
    "# Configurar o tamanho do gráfico\n",
    "plt.figure(figsize=(10, 8))\n",
    "\n",
    "# Criar o mapa de calor da correlação com números\n",
    "sns.heatmap(correlation_matrix, annot=True, cmap='coolwarm', fmt=\".2f\")\n",
    "\n",
    "# Definir rótulos dos eixos\n",
    "plt.xticks(range(len(correlation_matrix.columns)), correlation_matrix.columns, rotation=90)\n",
    "plt.yticks(range(len(correlation_matrix.columns)), correlation_matrix.columns)\n",
    "\n",
    "# Exibir o gráfico\n",
    "plt.show()\n"
   ]
  },
  {
   "cell_type": "markdown",
   "id": "cb296ae3",
   "metadata": {},
   "source": [
    "No gráfico de correlação, cada célula representa a correlação entre duas variáveis. Os valores podem variar de -1 a 1, onde:\n",
    "\n",
    "Um valor próximo de 1 indica uma forte correlação positiva.\n",
    "Um valor próximo de -1 indica uma forte correlação negativa.\n",
    "Um valor próximo de 0 indica uma correlação fraca ou nenhuma correlação.\n",
    "Agora, vamos explorar alguns possíveis insights que podemos obter com esse gráfico de correlação:\n",
    "\n",
    "- Correlações Positivas: Se observarmos valores próximos a 1, isso sugere que duas variáveis estão positivamente correlacionadas. Por exemplo, se houver uma correlação positiva forte entre \"tempo de treino\" e \"calorias queimadas\", isso indica que à medida que o tempo de treino aumenta, mais calorias são queimadas.\n",
    "\n",
    "- Correlações Negativas: Valores próximos a -1 indicam uma forte correlação negativa. Por exemplo, se encontrarmos uma correlação negativa entre \"idade\" e \"frequência cardíaca média\", isso pode significar que à medida que a idade aumenta, a frequência cardíaca média tende a diminuir.\n",
    "\n",
    "- Correlações Fracas: Valores próximos a 0 sugerem uma correlação fraca ou nenhuma correlação. Por exemplo, se a correlação entre \"horas de sono\" e \"distância percorrida\" for próxima de 0, isso significa que essas duas variáveis não estão fortemente relacionadas.\n",
    "\n",
    "- Identificação de Relações Complexas: O gráfico de correlação também nos permite identificar relações mais complexas entre variáveis. Por exemplo, pode revelar que a \"idade\" tem uma forte correlação positiva com o \"tempo de treino\" para um grupo de atletas, mas uma correlação negativa para outro grupo.\n",
    "\n",
    "Se encontrarmos problemas, como valores ausentes ou outliers no conjunto de dados (como vimos  com o box-plot), é importante abordá-los antes de calcular a matriz de correlação. Outras questões que podem surgir incluem multicolinearidade (correlações altas entre pares de variáveis independentes) e interpretação inadequada das correlações como causalidade.\n",
    "\n",
    "\n",
    "__Observação importante__\n",
    " - A matriz de correlação é calculada apenas para as colunas numéricas do conjunto de dados. Caso haja colunas não numéricas, essas são automaticamente excluídas do cálculo. Para garantir a precisão do cálculo, optamos por selecionar explicitamente as colunas numéricas. Para isso, usamos a função select_dtypes() do Pandas, especificando que desejamos incluir colunas com tipos de dados inteiros (int) e de ponto flutuante (float). Embora a seleção de colunas numéricas não seja estritamente necessária, é uma prática recomendada. Em contextos reais, é crucial garantir que as colunas selecionadas contenham exclusivamente dados com os quais a função corr() possa lidar, assim a seleção das colunas pode ser feita automaticamente."
   ]
  },
  {
   "cell_type": "markdown",
   "id": "a119b4f5",
   "metadata": {},
   "source": [
    "# 6 - Considerações finais\n",
    "\n",
    "Neste trabalho, vasculhamos partes da fascinante jornada da análise exploratória de dados. Nosso propósito era fornecer uma introdução prática a algumas das etapas essenciais que um analista de dados realiza ao iniciar uma investigação. Através da exploração de um conjunto de dados de exercícios físicos, buscamos ilustrar como identificar e lidar com dados ausentes, analisar estatísticas iniciais, identificar duplicatas, explorar categorias, criar gráficos iniciais e avaliar correlações.\n",
    "\n",
    "Lembramos que a análise exploratória de dados é a base de qualquer projeto de ciência de dados. Ela não apenas nos ajuda a entender melhor o conjunto de dados, mas também a formular perguntas significativas e a tomar decisões informadas. No entanto, a jornada da análise de dados não termina aqui. Ela é um convite para a busca contínua de conhecimento e descoberta.\n",
    "\n",
    "Ao encerrar este trabalho, esperamos que você sinta uma curiosidade renovada e uma motivação para aprofundar seus estudos na análise de dados. Há sempre mais a aprender, novas técnicas para explorar e problemas intrigantes para resolver. A análise de dados é uma disciplina em constante evolução, e cada conjunto de dados é uma história a ser contada.\n",
    "\n",
    "Assim, instigamos você a continuar explorando, pesquisando, experimentando e aprofundando sua compreensão da análise de dados. Os dados estão em toda parte, e a capacidade de desvendá-los é uma habilidade valiosa em nossa sociedade orientada por informações."
   ]
  },
  {
   "cell_type": "markdown",
   "id": "b8bae318",
   "metadata": {},
   "source": [
    "<a id=\"1\"><h1>- Apêndice</h1></a>"
   ]
  },
  {
   "cell_type": "markdown",
   "id": "d65592bb",
   "metadata": {},
   "source": [
    "Aqui estão algumas considerações importantes do autor dos dados:\n",
    "\n",
    "\"<a id=\"1_1\">3 anos de exercício registrado</a>\n",
    "\n",
    "Todas as unidades estão em libras.\n",
    "\n",
    "Geralmente, segui um plano de treinamento que envolvia dividir os exercícios em empurrar-puxar-pernas-descanso-repetir (PPL), embora nem sempre nessa ordem. Conforme você verá, mantive um programa geral consistente ao longo do tempo, mas com variações nas repetições e séries. \n",
    "Em alguns dias, minha energia era limitada devido a doenças, trabalho, falta de sono ou outros eventos.\n",
    "\n",
    "Assumo um peso corporal de 220 libras para atividades que envolvem o peso do corpo - como flexões, barra fixa, barra fixa com pegada neutra e pull-ups. Qualquer valor que você veja na coluna 'weight' no conjunto de dados para esses tipos de exercícios pode ser considerado como peso adicional. \n",
    "Por exemplo, \"70\" significaria 220 + 70 = 290 libras.\n",
    "Os pesos de halteres representam o peso combinado de ambos os braços. Por exemplo, um supino com halteres de 100 libras seria registrado como 200 libras.\n",
    "\n",
    "Alguns dos mesmos exercícios podem estar listados com nomes diferentes. \n",
    "Por exemplo, \"Elevação Lateral (Haltere)\" e \"Elevação Lateral (Halteres)\" são o mesmo exercício, apenas registrados com nomes diferentes.\n",
    "\n",
    "Abaixo, você encontrará uma fórmula que pode servir como proxy para o máximo de uma repetição (one-rep max, ou 1RM). Isso pode ser útil para comparar os níveis de força ao longo do tempo no mesmo exercício, mas com diferentes números de repetições. Encorajo você a explorar essa métrica de diferentes maneiras.\n",
    "\n",
    "MAX = PESO / (1,0278 - 0,0278 * repetições)\n",
    "Nem todo conjunto ou exercício é realizado até o máximo absoluto de repetições possíveis naquele momento. Às vezes, estou cansado devido ao trabalho, séries/exercícios anteriores, planejo fazer um dia com maior volume ou planejo um dia de descanso leve. Isso é senso comum, mas estou mencionando para esclarecimento.\n",
    "\n",
    "Qualquer movimento com halteres geralmente é registrado com o peso combinado de ambos os braços. Por exemplo, usando um supino com halteres.\n",
    "\n",
    "Qualquer valor que pareça extremamente alto provavelmente é um erro de digitação. Por exemplo, um levantamento na casa das centenas de libras é provavelmente um erro.\n",
    "\n",
    "Normalmente, não registro exercícios de aquecimento.\n",
    "\n",
    "Não é necessário analisar muito os nomes dos treinos, pois geralmente são uma categorização aproximada entre exercícios para pernas, exercícios de empurrar e exercícios de puxar.\n",
    "\n",
    "Raramente pratico exercícios de cardio, mas tenho conseguido caminhar cerca de 2,75 milhas por dia consistentemente ao longo desse período. Nos últimos dois meses, comecei a pedalar aproximadamente 30 milhas por semana.\"\n",
    "\n",
    "FONTE: <a href=\"https://www.kaggle.com/datasets/joep89/weightlifting\">721 Weight Training Workouts</a>"
   ]
  },
  {
   "cell_type": "markdown",
   "id": "fc842145",
   "metadata": {},
   "source": [
    "<a id=\"2\"><h2>- Aviso sobre Unidades de Medida</h2></a> "
   ]
  },
  {
   "cell_type": "markdown",
   "id": "eccfe1bc",
   "metadata": {},
   "source": [
    "É importante observar que, inicialmente, não convertemos as unidades de libras (pounds) para quilogramas (kg) ou outras medidas. O autor dos dados registrou as informações nas unidades em que estava mais familiarizado, o que, no caso, são libras. O mesmo se aplica a outras medidas, como milhas em vez de quilômetros.\n",
    "\n",
    "Por se tratar de um contexto baseado nos Estados Unidos, essas unidades foram mantidas para preservar a integridade dos dados originais. No entanto, é fundamental destacar que, dependendo da análise específica e do público-alvo, a conversão para unidades métricas, como kg, quilômetros, entre outras, pode ser necessária.\n",
    "\n",
    "Os analistas e leitores que trabalham com sistemas de unidades diferentes das usadas neste conjunto de dados podem optar por realizar as conversões apropriadas para melhor se adequar às suas necessidades e compreensão. Afinal, a análise de dados é uma ferramenta flexível que deve ser adaptada de acordo com os requisitos do projeto e do público em questão."
   ]
  },
  {
   "cell_type": "markdown",
   "id": "ff6dae34",
   "metadata": {},
   "source": [
    "<a id=\"3\"><h2>- Considerações adicionais fundamentais sobre duplicatas</h2></a> "
   ]
  },
  {
   "cell_type": "markdown",
   "id": "15a3b24b",
   "metadata": {},
   "source": [
    "__Entenda a Causa da Ocorrência__: Primeiramente, tente identificar por que elas surgiram. Isso pode ajudar a determinar a melhor abordagem a ser adotada. Considere se essas ocorrências são o resultado de erros na coleta de dados, problemas técnicos ou repetições legítimas.\n",
    "\n",
    "__Defina seus Objetivos Analíticos__: Clareie quais são seus objetivos. Você deseja uma análise mais precisa? Pretende manter as informações detalhadas? Esses objetivos guiarão sua decisão sobre como lidar com essas ocorrências.\n",
    "\n",
    "__Escolha a Abordagem Apropriada__: Compreendendo a causa das ocorrências e seus objetivos, você pode escolher a abordagem apropriada. Isso pode envolver a remoção delas, o agrupamento de dados ou outras estratégias, dependendo do contexto.\n",
    "\n",
    "__Registre Suas Ações__: Documente todas as ações tomadas em relação às ocorrências. Isso é essencial para rastreabilidade, especialmente quando você compartilha seus resultados ou trabalha em equipe.\n",
    "\n",
    "__Mantenha a Integridade dos Dados__: Certifique-se de que suas ações em relação às ocorrências mantenham a integridade dos dados. Evite a perda de informações relevantes ou a distorção dos resultados.\n",
    "\n",
    "__Realize Validações__: Após tratar as ocorrências, faça validações para garantir que sua abordagem tenha produzido os resultados desejados. Verifique se suas análises e conclusões são consistentes com a remoção ou agrupamento de ocorrências.\n",
    "\n",
    "__Comunique suas Decisões__: Se você estiver trabalhando em equipe, é importante comunicar claramente suas decisões em relação às ocorrências, especialmente se você optar por removê-las. Isso ajuda a manter todos na mesma página.\n",
    "\n",
    "__Analise os Resultados__: Finalmente, continue suas análises após a remoção ou agrupamento das ocorrências. Avalie como suas ações afetaram suas conclusões e resultados."
   ]
  },
  {
   "cell_type": "markdown",
   "id": "255556dc",
   "metadata": {},
   "source": [
    "<a id=\"4\"><h2>- Informações sobre as colunas da tabela</h2></a>"
   ]
  },
  {
   "cell_type": "markdown",
   "id": "2fec74fe",
   "metadata": {},
   "source": [
    "O autor da tabela não fornece uma descrição explícita do significado de cada coluna, mas podemos deduzir o que cada coluna representa com base no conteúdo da tabela e em alguns contextos gerais.\n",
    "\n",
    "Essas deduções são feitas com base na lógica das informações presentes no conjunto de dados e nas convenções comuns usadas em registros de treinamento físico. À medida que exploramos os dados e realizamos análises, podemos confirmar nossas suposições sobre o significado de cada coluna.\n",
    "\n",
    "- __date__: A data em que o treino/exercício foi registrado.\n",
    "- __workout_name__: O nome do treino.\n",
    "- __exercise_name__: O nome do exercício.\n",
    "- __set_order__: A ordem em que os exercícios foram realizados.\n",
    "- __weight__: O peso utilizado nos exercícios, geralmente em libras.\n",
    "- __reps__: O número de repetições feitas em cada conjunto.\n",
    "- __distance__: A distância percorrida, se aplicável.\n",
    "- __seconds__: O tempo gasto, se aplicável.\n",
    "- __notes__: Notas adicionais relacionadas ao exercício.\n",
    "- __workout_notes__: Notas específicas do treino."
   ]
  },
  {
   "cell_type": "markdown",
   "id": "36d2224b",
   "metadata": {},
   "source": [
    "<a id=\"5\"><h2>- Dados categórigos - Observação adicional - Exemplo</h2></a>"
   ]
  },
  {
   "cell_type": "markdown",
   "id": "145b370b",
   "metadata": {},
   "source": [
    "Uma observação intrigante que surge da análise dos dados utilizando df_copy['workout_name'].value_counts() e df_copy['exercise_name'].value_counts() é a aparente disparidade entre o número de sessões de treinamento rotuladas como \"Legs\" (pernas) e o alto volume de exercícios específicos para as pernas observados nos dados. Por exemplo, ao examinarmos as categorias em \"workout_name,\" notamos que \"Back\" (costas) tem um total de 2034 sessões registradas, enquanto \"Legs\" tem apenas 7.\n",
    "\n",
    "Isso levanta uma questão importante: como é possível aplicar um volume considerável de treinamento para as pernas com base em um número tão limitado de sessões de treinamento dedicadas a elas? A resposta pode estar na análise detalhada dos exercícios. Quando exploramos os valores únicos em \"exercise_name,\" descobrimos que exercícios como \"Squat (Barbell)\" aparecem 1437 vezes,  o que pode sugerir que ele está sendo realizado em sessões que não necessariamente são dedicadas especificamente às pernas.\n",
    "\n",
    "Por exemplo, o agachamento com barra pode ser incorporado a sessões que envolvem outros grupos musculares, como costas ou peito, além de sessões de pernas dedicadas. Isso pode explicar por que, apesar de um número relativamente baixo de sessões de treinamento rotuladas como \"Legs,\" o exercício de agachamento com barra é executado com frequência, indicando que o treinamento das pernas pode ocorrer em diferentes contextos de treinamento.\n",
    "\n",
    "Essa observação destaca o valor da análise de dados categóricos, como a contagem de valores únicos, para obter insights sobre a estrutura e o foco do treinamento. Ela também exemplifica como uma aparente discrepância pode ser esclarecida quando se considera o conteúdo real das sessões de treinamento.\n",
    "\n",
    "Análises adicionais podem ser conduzidas para entender melhor como as sessões de treinamento são estruturadas, quais grupos musculares são mais enfatizados e quais tipos de exercícios são frequentemente repetidos. Essa abordagem é útil para uma compreensão mais profunda dos padrões de treinamento e pode orientar decisões relacionadas ao desenvolvimento de programas de treinamento mais equilibrados e eficazes."
   ]
  },
  {
   "cell_type": "markdown",
   "id": "73b1a2e2",
   "metadata": {},
   "source": [
    "<a id=\"6\"><h2>- Considerações sobre a escolha do tipo de gráfico conforme os dados a serem analisados</h2></a>"
   ]
  },
  {
   "cell_type": "markdown",
   "id": "a9b3e973",
   "metadata": {},
   "source": [
    "__Gráfico de Barras__: Use gráficos de barras para representar dados categóricos ou qualitativos, onde as categorias são discretas e não possuem uma relação numérica direta. Por exemplo, você pode usar gráficos de barras para mostrar a contagem de treinos por categoria, como nomes de exercícios, categorias de produtos, ou qualquer outra classificação semelhante.\n",
    "\n",
    "__Histograma__: Os histogramas são usados para mostrar a distribuição de dados numéricos contínuos. Eles dividem os dados em intervalos (bins) e contam quantas observações caem em cada intervalo. Isso ajuda a visualizar a forma da distribuição e identificar tendências nos dados. Por exemplo, ao criar um histograma da coluna \"weight,\" você pode entender como os pesos estão distribuídos.\n",
    "\n",
    "__Box Plot (Gráfico de Caixa)__: Use box plots para representar a distribuição e a variação de dados numéricos. Eles fornecem informações sobre a mediana, quartis, valores máximos e mínimos, bem como possíveis valores atípicos. Box plots são úteis para identificar discrepâncias nos dados numéricos.\n",
    "\n",
    "__Gráfico de Linhas__: Os gráficos de linhas são ideais para mostrar tendências ao longo do tempo ou em uma sequência lógica. Eles são a escolha certa para representar dados como séries temporais e quaisquer dados que sigam uma ordem natural.\n",
    "\n",
    "__Gráfico de Dispersão__: Use gráficos de dispersão para mostrar a relação entre duas variáveis numéricas. Eles são eficazes na identificação de correlações ou padrões entre os dados, especialmente quando você quer ver como uma variável afeta a outra.\n",
    "\n",
    "__Gráfico de Pizza__: Gráficos de pizza são adequados quando você deseja mostrar a composição de um todo, onde cada parte (fatia) representa uma proporção ou percentagem de um conjunto, como a distribuição de categorias em um conjunto de dados.\n",
    "\n",
    "__Mapas e Gráficos Geoespaciais__: Use mapas e gráficos geoespaciais para representar dados geográficos, como a localização de pontos em um mapa, densidade populacional por região ou qualquer informação geoespacial.\n",
    "\n",
    "A escolha do tipo de gráfico deve ser feita considerando o público-alvo e o objetivo da visualização. É útil experimentar diferentes tipos de gráficos para determinar qual fornece a representação mais clara e informativa de seus dados, tornando a comunicação dos insights mais eficaz."
   ]
  },
  {
   "cell_type": "markdown",
   "id": "90b4b0a6",
   "metadata": {},
   "source": [
    "<a id=\"7\"><h2>- Uma sugestão à abordagem prática para criação de gráficos de barras relacionados a colunas com muitos dados</h2></a>"
   ]
  },
  {
   "cell_type": "markdown",
   "id": "c08775c9",
   "metadata": {},
   "source": [
    "Em situações em que você tem muitos dados em uma coluna, como no caso da coluna \"workout_name\" com 95 valores únicos, uma abordagem prática pode ser a seguinte:\n",
    "\n",
    "__Reduzir a Granularidade__: Em vez de tentar visualizar todos os valores únicos, você pode agrupá-los em categorias mais amplas. Por exemplo, no contexto de exercícios, você pode criar categorias como \"Cardio\", \"Levantamento de Peso\", \"Ioga\", \"Exercícios Aeróbicos\", etc., com base em algum critério lógico. Em seguida, você pode criar um gráfico de barras para mostrar a contagem de exercícios em cada categoria, tornando a visualização mais legível.\n",
    "\n",
    "__Selecionar os Principais__: Em vez de mostrar todos os valores únicos, você pode escolher mostrar apenas os principais ou mais frequentes. Por exemplo, você pode exibir os 10 exercícios mais praticados e agrupar o restante em uma categoria \"Outros.\"\n",
    "\n",
    "__Filtrar por Interesse__: Se você estiver interessado em uma categoria específica ou em um conjunto menor de valores, pode criar um gráfico de barras apenas para esses dados, permitindo uma análise mais aprofundada.\n",
    "\n",
    "__Avaliar o Objetivo__: Sempre leve em consideração o objetivo da visualização. Pergunte a si mesmo o que deseja comunicar com o gráfico e quem é o público-alvo. Às vezes, é mais importante fornecer uma visão geral do que mostrar todos os detalhes.\n",
    "\n",
    "Essas abordagens práticas ajudam a lidar com uma grande quantidade de dados de forma mais eficaz e a criar visualizações que transmitam informações relevantes de maneira clara. Lembre-se de que a escolha da abordagem depende do contexto e dos objetivos da análise.__"
   ]
  },
  {
   "cell_type": "markdown",
   "id": "802170d9",
   "metadata": {},
   "source": [
    "<a id=\"8\"><h2>- Considerações sobre uso prático de gráficos de séries temporais</h2></a>"
   ]
  },
  {
   "cell_type": "markdown",
   "id": "e2813cfa",
   "metadata": {},
   "source": [
    "Os exemplos a seguir consideram o conjunto de dados com que lidamos no trabalho:\n",
    "\n",
    "__Acompanhamento de Progresso__: Se os dados incluírem datas e informações relacionadas a treinos de exercícios, você pode criar uma série temporal para acompanhar o progresso de um usuário ao longo do tempo. Isso permitiria visualizar como o peso levantado, o número de repetições ou a distância percorrida evoluíram ao longo de várias sessões de treino.\n",
    "\n",
    "__Análise de Tendências a Longo Prazo__: Se os dados abrangem um período considerável, como vários meses ou anos, você pode usar gráficos de série temporal para identificar tendências a longo prazo. Por exemplo, é possível observar se há uma melhoria constante no desempenho ao longo do tempo.\n",
    "\n",
    "__Identificação de Sazonalidades__: Se os treinos variam sazonalmente (por exemplo, mais intensos no verão e menos intensos no inverno), um gráfico de série temporal pode ajudar a identificar esses padrões sazonais.\n",
    "\n",
    "__Análise de Frequência__: Se as datas estiverem relacionadas a outros eventos (por exemplo, frequência de treinos por dia da semana ou mês), você pode criar gráficos de série temporal para analisar a frequência desses eventos e identificar padrões, como os dias da semana mais movimentados.\n",
    "\n",
    "__Correlação entre Diferentes Variáveis ao Longo do Tempo__: Você também pode usar gráficos de série temporal para investigar possíveis correlações entre diferentes variáveis. Por exemplo, verificar se o peso levantado tem alguma relação com a distância percorrida em um determinado período de tempo.\n",
    "\n",
    "Os exemplos acima são apenas algumas possibilidades de aplicação, no entanto, tenha em mente que a relevância de um gráfico de série temporal depende dos objetivos específicos da análise que você deseja realizar e das informações contidas nos seus dados. Portanto, é importante definir claramente o que você deseja explorar antes de criar um gráfico de série temporal."
   ]
  },
  {
   "cell_type": "markdown",
   "id": "e82236cf",
   "metadata": {},
   "source": []
  }
 ],
 "metadata": {
  "kernelspec": {
   "display_name": "Python 3 (ipykernel)",
   "language": "python",
   "name": "python3"
  },
  "language_info": {
   "codemirror_mode": {
    "name": "ipython",
    "version": 3
   },
   "file_extension": ".py",
   "mimetype": "text/x-python",
   "name": "python",
   "nbconvert_exporter": "python",
   "pygments_lexer": "ipython3",
   "version": "3.11.6"
  }
 },
 "nbformat": 4,
 "nbformat_minor": 5
}
